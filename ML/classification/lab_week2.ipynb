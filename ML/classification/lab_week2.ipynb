{
 "cells": [
  {
   "metadata": {},
   "cell_type": "markdown",
   "source": [
    "# Класифікація. Лабораторна робота №2.\n",
    "\n",
    "## 1. Імпортуємо необхідні бібліотеки\n"
   ],
   "id": "becfd92750d033de"
  },
  {
   "metadata": {
    "ExecuteTime": {
     "end_time": "2025-06-19T02:01:24.175389Z",
     "start_time": "2025-06-19T02:01:24.170394Z"
    }
   },
   "cell_type": "code",
   "source": [
    "import pandas as pd\n",
    "import string\n",
    "import matplotlib.pyplot as plt\n",
    "from sklearn.model_selection import train_test_split\n",
    "from sklearn.linear_model import LogisticRegression\n",
    "from sklearn.feature_extraction.text import CountVectorizer\n",
    "from sklearn import metrics"
   ],
   "id": "f64c77d1986673f7",
   "outputs": [],
   "execution_count": 235
  },
  {
   "metadata": {},
   "cell_type": "markdown",
   "source": "## 2. Відрикриваємо dataset і переглядаємо його в табличному вигляді\n",
   "id": "ebc6ac06d1c7743f"
  },
  {
   "metadata": {
    "ExecuteTime": {
     "end_time": "2025-06-19T02:01:25.072443Z",
     "start_time": "2025-06-19T02:01:24.242583Z"
    }
   },
   "cell_type": "code",
   "source": [
    "products = pd.read_csv(\"./amazon_baby.csv\")\n",
    "products"
   ],
   "id": "97cd391391cfe499",
   "outputs": [
    {
     "data": {
      "text/plain": [
       "                                                                                                                                                                                                                                                                                                                                                       name  \\\n",
       "0                                                                                                                                                                                                                                                                                                                                  Planetwise Flannel Wipes   \n",
       "1                                                                                                                                                                                                                                                                                                                                     Planetwise Wipe Pouch   \n",
       "2                                                                                                                                                                                                                                                                                                                       Annas Dream Full Quilt with 2 Shams   \n",
       "3                                                                                                                                                                                                                                                         Stop Pacifier Sucking without tears with Thumbuddy To Love's Binky Fairy Puppet and Adorable Book   \n",
       "4                                                                                                                                                                                                                                                         Stop Pacifier Sucking without tears with Thumbuddy To Love's Binky Fairy Puppet and Adorable Book   \n",
       "...                                                                                                                                                                                                                                                                                                                                                     ...   \n",
       "183526                                                                                                                                                                                                                                                                            Baby Teething Necklace for Mom Pretty Donut Shaped Pendant (Smokey Black)   \n",
       "183527                                                                                                                                                                                                                                                                            Baby Teething Necklace for Mom Pretty Donut Shaped Pendant (Smokey Black)   \n",
       "183528                                                                                                                                                                                                                                                                                                     Abstract 2 PK Baby / Toddler Training Cup (Pink)   \n",
       "183529                                                                                                                                            Baby Food Freezer Tray - Bacteria Resistant, BPA and Phthalate Free - FREE Recipe E-book - Silicone Storage Container with Lid for Homemade Baby Food - 9 Easy-Out Portions - Lifetime Guarantee - Purple   \n",
       "183530  Best 2 Pack Baby Car Shade for Kids - Window Shade Baby - Cheapest Baby Sun Shade with Excellent Quality - Great Protection Car Window Shade for Travel, Trips, or Just for Shade - Better Than Britax and Brica - Pop Open Window Shade Cling That Folds to the Size of Your Hand - Twice As Strong As Competitors - Lifetime Money Back Guarantee   \n",
       "\n",
       "                                                                                                                                                                                                                                                                                                                                                                                                                                                                                                                                                                                                                                                                                                                                                                                                                                                                                        review  \\\n",
       "0                                                                                                                                                                                                                                                                                                                                                                                                                         These flannel wipes are OK, but in my opinion not worth keeping.  I also ordered someImse Vimse Cloth Wipes-Ocean Blue-12 countwhich are larger, had a nicer, softer texture and just seemed higher quality.  I use cloth wipes for hands and faces and have been usingThirsties 6 Pack Fab Wipes, Boyfor about 8 months now and need to replace them because they are starting to get rough and have had stink issues for a while that stripping no longer handles.   \n",
       "1                                                                                                                                                                                                                                                                                                                                                                                                                                                                                                                                                                                                                                                                                                                               it came early and was not disappointed. i love planet wise bags and now my wipe holder. it keps my osocozy wipes moist and does not leak. highly recommend it.   \n",
       "2                                                                                                                                                                                                                                                                                                                                                                                                                                                                                                                                                                                                                                                                                                                                              Very soft and comfortable and warmer than it looks...fit the full size bed perfectly...would recommend to anyone looking for this type of quilt   \n",
       "3                                                                                                                                                                                                                                                                                                                                                                                                                                                                                       This is a product well worth the purchase.  I have not found anything else like this, and it is a positive, ingenious approach to losing the binky.  What I love most about this product is how much ownership my daughter has in getting rid of the binky.  She is so proud of herself, and loves her little fairy.  I love the artwork, the chart in the back, and the clever approach of this tool.   \n",
       "4                                                                                                                                                                                                                                                                                                                                                                                                                                                                         All of my kids have cried non-stop when I tried to ween them off their pacifier, until I found Thumbuddy To Love's Binky Fairy Puppet.  It is an easy way to work with your kids to allow them to understand where their pacifier is going and help them part from it.This is a must buy book, and a great gift for expecting parents!!  You will save them soo many headaches.Thanks for this book!  You all rock!!   \n",
       "...                                                                                                                                                                                                                                                                                                                                                                                                                                                                                                                                                                                                                                                                                                                                                                                                                                                                                        ...   \n",
       "183526                                                                                                                                                                                                                                                                                                                                                                                                                                                                                                                                                                                                                                                                                                                                               Such a great idea! very handy to have and look really cool too, not to mention great for baby's gums to help reduce the pain of teething!   \n",
       "183527                                                                                                                                                                                                                                                                                                                                                                                                                                                                                                                      This product rocks!  It is a great blend of function and fashion.  Aside from the unique concept of having something easily accessible and cool for baby to play and soothe themselves as cool accessory for mom, I probably like most the care in the quality of the product in that it is BPA, PVC free, latex and lead-free and dishwasher friendly as a bonus.   \n",
       "183528                                                                                                                                                                                                                                                                                                                                                                                                                                                                                                                                                                                                                                                                                                                                                                                           This item looks great and cool for my kids....I know this Company and its great in quality...   \n",
       "183529  I am extremely happy with this product. I have been searching for a product like this for a long time and just not found the right one. I am a mum who is very into my organic products and unllike many others I have looked at, The Tutti Bimbi Freezer Tray is also BPA and phthalates free. The bright packaging and the ability to choose my colour attracted me to the listing and the fact that I can prepare 9 meals with a very generous portion size for my baby at one time is a massive advantage to me as a working mum. I can freeze the tray easily as it comes with a very easy clip on lid that also protects from freezer burn. I have found I can also put the baby food tray in the dishwasher fine. I would strongly recommend the Tutti Bimbi Baby Food Freezer Tray to any parent like myself who is looking for an easy way to make baby weaning food at home.   \n",
       "183530                                                                                                                                                                                                                                                                                                                                                                                                                                                                                                                                                                                                                                                                                    I love this product very mush . I have bought many car shades earlier but they never protected me from direct sun exposure . But these really work well and It also Keeps the temperature of the car   \n",
       "\n",
       "        rating  \n",
       "0            3  \n",
       "1            5  \n",
       "2            5  \n",
       "3            5  \n",
       "4            5  \n",
       "...        ...  \n",
       "183526       5  \n",
       "183527       5  \n",
       "183528       5  \n",
       "183529       5  \n",
       "183530       5  \n",
       "\n",
       "[183531 rows x 3 columns]"
      ],
      "text/html": [
       "<div>\n",
       "<style scoped>\n",
       "    .dataframe tbody tr th:only-of-type {\n",
       "        vertical-align: middle;\n",
       "    }\n",
       "\n",
       "    .dataframe tbody tr th {\n",
       "        vertical-align: top;\n",
       "    }\n",
       "\n",
       "    .dataframe thead th {\n",
       "        text-align: right;\n",
       "    }\n",
       "</style>\n",
       "<table border=\"1\" class=\"dataframe\">\n",
       "  <thead>\n",
       "    <tr style=\"text-align: right;\">\n",
       "      <th></th>\n",
       "      <th>name</th>\n",
       "      <th>review</th>\n",
       "      <th>rating</th>\n",
       "    </tr>\n",
       "  </thead>\n",
       "  <tbody>\n",
       "    <tr>\n",
       "      <th>0</th>\n",
       "      <td>Planetwise Flannel Wipes</td>\n",
       "      <td>These flannel wipes are OK, but in my opinion not worth keeping.  I also ordered someImse Vimse Cloth Wipes-Ocean Blue-12 countwhich are larger, had a nicer, softer texture and just seemed higher quality.  I use cloth wipes for hands and faces and have been usingThirsties 6 Pack Fab Wipes, Boyfor about 8 months now and need to replace them because they are starting to get rough and have had stink issues for a while that stripping no longer handles.</td>\n",
       "      <td>3</td>\n",
       "    </tr>\n",
       "    <tr>\n",
       "      <th>1</th>\n",
       "      <td>Planetwise Wipe Pouch</td>\n",
       "      <td>it came early and was not disappointed. i love planet wise bags and now my wipe holder. it keps my osocozy wipes moist and does not leak. highly recommend it.</td>\n",
       "      <td>5</td>\n",
       "    </tr>\n",
       "    <tr>\n",
       "      <th>2</th>\n",
       "      <td>Annas Dream Full Quilt with 2 Shams</td>\n",
       "      <td>Very soft and comfortable and warmer than it looks...fit the full size bed perfectly...would recommend to anyone looking for this type of quilt</td>\n",
       "      <td>5</td>\n",
       "    </tr>\n",
       "    <tr>\n",
       "      <th>3</th>\n",
       "      <td>Stop Pacifier Sucking without tears with Thumbuddy To Love's Binky Fairy Puppet and Adorable Book</td>\n",
       "      <td>This is a product well worth the purchase.  I have not found anything else like this, and it is a positive, ingenious approach to losing the binky.  What I love most about this product is how much ownership my daughter has in getting rid of the binky.  She is so proud of herself, and loves her little fairy.  I love the artwork, the chart in the back, and the clever approach of this tool.</td>\n",
       "      <td>5</td>\n",
       "    </tr>\n",
       "    <tr>\n",
       "      <th>4</th>\n",
       "      <td>Stop Pacifier Sucking without tears with Thumbuddy To Love's Binky Fairy Puppet and Adorable Book</td>\n",
       "      <td>All of my kids have cried non-stop when I tried to ween them off their pacifier, until I found Thumbuddy To Love's Binky Fairy Puppet.  It is an easy way to work with your kids to allow them to understand where their pacifier is going and help them part from it.This is a must buy book, and a great gift for expecting parents!!  You will save them soo many headaches.Thanks for this book!  You all rock!!</td>\n",
       "      <td>5</td>\n",
       "    </tr>\n",
       "    <tr>\n",
       "      <th>...</th>\n",
       "      <td>...</td>\n",
       "      <td>...</td>\n",
       "      <td>...</td>\n",
       "    </tr>\n",
       "    <tr>\n",
       "      <th>183526</th>\n",
       "      <td>Baby Teething Necklace for Mom Pretty Donut Shaped Pendant (Smokey Black)</td>\n",
       "      <td>Such a great idea! very handy to have and look really cool too, not to mention great for baby's gums to help reduce the pain of teething!</td>\n",
       "      <td>5</td>\n",
       "    </tr>\n",
       "    <tr>\n",
       "      <th>183527</th>\n",
       "      <td>Baby Teething Necklace for Mom Pretty Donut Shaped Pendant (Smokey Black)</td>\n",
       "      <td>This product rocks!  It is a great blend of function and fashion.  Aside from the unique concept of having something easily accessible and cool for baby to play and soothe themselves as cool accessory for mom, I probably like most the care in the quality of the product in that it is BPA, PVC free, latex and lead-free and dishwasher friendly as a bonus.</td>\n",
       "      <td>5</td>\n",
       "    </tr>\n",
       "    <tr>\n",
       "      <th>183528</th>\n",
       "      <td>Abstract 2 PK Baby / Toddler Training Cup (Pink)</td>\n",
       "      <td>This item looks great and cool for my kids....I know this Company and its great in quality...</td>\n",
       "      <td>5</td>\n",
       "    </tr>\n",
       "    <tr>\n",
       "      <th>183529</th>\n",
       "      <td>Baby Food Freezer Tray - Bacteria Resistant, BPA and Phthalate Free - FREE Recipe E-book - Silicone Storage Container with Lid for Homemade Baby Food - 9 Easy-Out Portions - Lifetime Guarantee - Purple</td>\n",
       "      <td>I am extremely happy with this product. I have been searching for a product like this for a long time and just not found the right one. I am a mum who is very into my organic products and unllike many others I have looked at, The Tutti Bimbi Freezer Tray is also BPA and phthalates free. The bright packaging and the ability to choose my colour attracted me to the listing and the fact that I can prepare 9 meals with a very generous portion size for my baby at one time is a massive advantage to me as a working mum. I can freeze the tray easily as it comes with a very easy clip on lid that also protects from freezer burn. I have found I can also put the baby food tray in the dishwasher fine. I would strongly recommend the Tutti Bimbi Baby Food Freezer Tray to any parent like myself who is looking for an easy way to make baby weaning food at home.</td>\n",
       "      <td>5</td>\n",
       "    </tr>\n",
       "    <tr>\n",
       "      <th>183530</th>\n",
       "      <td>Best 2 Pack Baby Car Shade for Kids - Window Shade Baby - Cheapest Baby Sun Shade with Excellent Quality - Great Protection Car Window Shade for Travel, Trips, or Just for Shade - Better Than Britax and Brica - Pop Open Window Shade Cling That Folds to the Size of Your Hand - Twice As Strong As Competitors - Lifetime Money Back Guarantee</td>\n",
       "      <td>I love this product very mush . I have bought many car shades earlier but they never protected me from direct sun exposure . But these really work well and It also Keeps the temperature of the car</td>\n",
       "      <td>5</td>\n",
       "    </tr>\n",
       "  </tbody>\n",
       "</table>\n",
       "<p>183531 rows × 3 columns</p>\n",
       "</div>"
      ]
     },
     "execution_count": 236,
     "metadata": {},
     "output_type": "execute_result"
    }
   ],
   "execution_count": 236
  },
  {
   "metadata": {},
   "cell_type": "markdown",
   "source": "## 3. Підготуємо текст відгуку для подальшого аналізу\n",
   "id": "30122b11d9ef0a9a"
  },
  {
   "metadata": {
    "ExecuteTime": {
     "end_time": "2025-06-19T02:01:26.930055Z",
     "start_time": "2025-06-19T02:01:25.140702Z"
    }
   },
   "cell_type": "code",
   "source": [
    "# Заміняємо всі NaN review рядки на пусті рядки\n",
    "products.review = products.review.fillna(\"\")\n",
    "# Приводимо review рядки до типу str\n",
    "products.review = products.review.astype(str)\n",
    "# Нормалізуємо кожний рядок: прибираємо символи пунктуації, приводимо до нижнього регістру\n",
    "def normalize(review):\n",
    "    for i in string.punctuation:\n",
    "        review = review.replace(i, \"\")\n",
    "    return review.lower()\n",
    "\n",
    "products.review = products.review.apply(normalize)"
   ],
   "id": "ecfa1b05b35da43d",
   "outputs": [],
   "execution_count": 237
  },
  {
   "metadata": {},
   "cell_type": "markdown",
   "source": "## 4. Проведемо аналіз та виявимо які продукти частіше зустрічаються у відгуках\n",
   "id": "c4bf1716e542f3ef"
  },
  {
   "metadata": {
    "ExecuteTime": {
     "end_time": "2025-06-19T02:01:27.025373Z",
     "start_time": "2025-06-19T02:01:26.980227Z"
    }
   },
   "cell_type": "code",
   "source": "products.name.describe()",
   "id": "2b65dd6e48ca9a30",
   "outputs": [
    {
     "data": {
      "text/plain": [
       "count                               183213\n",
       "unique                               32417\n",
       "top       Vulli Sophie the Giraffe Teether\n",
       "freq                                   785\n",
       "Name: name, dtype: object"
      ]
     },
     "execution_count": 238,
     "metadata": {},
     "output_type": "execute_result"
    }
   ],
   "execution_count": 238
  },
  {
   "metadata": {},
   "cell_type": "markdown",
   "source": "## 5. Вивчимо найбільш популярний товар\n",
   "id": "aa364db652dc020f"
  },
  {
   "metadata": {
    "ExecuteTime": {
     "end_time": "2025-06-19T02:01:27.119138Z",
     "start_time": "2025-06-19T02:01:27.089050Z"
    }
   },
   "cell_type": "code",
   "source": [
    "# Виділимо рядки з цим товаром\n",
    "giraffe_reviews = products[products.name == \"Vulli Sophie the Giraffe Teether\"].copy()\n",
    "giraffe_reviews"
   ],
   "id": "698f9b87e2a14486",
   "outputs": [
    {
     "data": {
      "text/plain": [
       "                                    name  \\\n",
       "34313   Vulli Sophie the Giraffe Teether   \n",
       "34314   Vulli Sophie the Giraffe Teether   \n",
       "34315   Vulli Sophie the Giraffe Teether   \n",
       "34316   Vulli Sophie the Giraffe Teether   \n",
       "34317   Vulli Sophie the Giraffe Teether   \n",
       "...                                  ...   \n",
       "159649  Vulli Sophie the Giraffe Teether   \n",
       "159650  Vulli Sophie the Giraffe Teether   \n",
       "159651  Vulli Sophie the Giraffe Teether   \n",
       "159652  Vulli Sophie the Giraffe Teether   \n",
       "159653  Vulli Sophie the Giraffe Teether   \n",
       "\n",
       "                                                                                                                                                                                                                                                                                                                                                                                                                                                                                                                                                                       review  \\\n",
       "34313                                                                                                                                                                                                                                                                                                                                                                                                                             he likes chewing on all the parts especially the head and the ears it has helped when he has been cranky because of teething great purchase   \n",
       "34314                                                                                                                                                                                                                                                                                                                                                                                                              my son loves this toy and fits great in the diaper bag also very easy to clean just run right under the water seems to help him when he is getting a tooth   \n",
       "34315                                                                                                                                                                                 there really should be a large warning on the box  sheesh in 2011 with so many anaphylactic latex allergies and latex being an allergy that is caused by repeated exposure why in the world would someone think an all latex teether was a good idea for a baby  this baby teether could have quite easily killed mommy and there was no warning on the packaging that is made of latex   \n",
       "34316                                                                                                                                                                                                                                                                                                          all the moms in my moms group got sophie for their babies so i wondered if there was something to the hype and got one too my daughter loves sophie kids really do love this thing if we heaven forbid ever lost sophie id have to run out and buy another one   \n",
       "34317   i was a little skeptical on whether sophie was going to be worth the money but after it arrived today i am very happy that i bought her  my is almost 6 months old and is getting his two bottom teeth and he has not put her down all day  he even carried her in his hands for 20 minutes while i shopped with him in the bjorn  everything about this toy is wonderful  even the squeak is not like some of those annoying squeaker toys out there  if you are thinking about rather or not to buy sophie take it from me and buy her you will not be disappointed   \n",
       "...                                                                                                                                                                                                                                                                                                                                                                                                                                                                                                                                                                       ...   \n",
       "159649                                                                                                                                                                                                                                                                                                                                                                                                                                        my baby loves her sophie chew toy she can chew on all sides and the feet it squeaks too provides hours of fun for my little one   \n",
       "159650                                                                                                                                                                                                                                                                                                                                                                                                                               sophie the giraffe was a big hit at the baby shower my daughter knew all about sophies attributes and loved receiving her as a baby gift   \n",
       "159651                                                                                                                                                                                                                                                                                                                                                                                                              quick shipping and perfect product i would purchase again very satisfied i bought this for my daughter in law for our baby to be baby shower she loves it   \n",
       "159652                                                                                                                                                                                                                                                                                                                                                                                                                                                            my baby who is currently teething love his sophie i little bit expensive for a chew toy but it does its job   \n",
       "159653                                                                                                                                                                                                                                                                                                                                                                                                                                                 i know several baits that are enjoying the soft flexible sophie giraffe no wonder she made it to the top baby products   \n",
       "\n",
       "        rating  \n",
       "34313        5  \n",
       "34314        5  \n",
       "34315        1  \n",
       "34316        5  \n",
       "34317        5  \n",
       "...        ...  \n",
       "159649       5  \n",
       "159650       5  \n",
       "159651       5  \n",
       "159652       5  \n",
       "159653       5  \n",
       "\n",
       "[785 rows x 3 columns]"
      ],
      "text/html": [
       "<div>\n",
       "<style scoped>\n",
       "    .dataframe tbody tr th:only-of-type {\n",
       "        vertical-align: middle;\n",
       "    }\n",
       "\n",
       "    .dataframe tbody tr th {\n",
       "        vertical-align: top;\n",
       "    }\n",
       "\n",
       "    .dataframe thead th {\n",
       "        text-align: right;\n",
       "    }\n",
       "</style>\n",
       "<table border=\"1\" class=\"dataframe\">\n",
       "  <thead>\n",
       "    <tr style=\"text-align: right;\">\n",
       "      <th></th>\n",
       "      <th>name</th>\n",
       "      <th>review</th>\n",
       "      <th>rating</th>\n",
       "    </tr>\n",
       "  </thead>\n",
       "  <tbody>\n",
       "    <tr>\n",
       "      <th>34313</th>\n",
       "      <td>Vulli Sophie the Giraffe Teether</td>\n",
       "      <td>he likes chewing on all the parts especially the head and the ears it has helped when he has been cranky because of teething great purchase</td>\n",
       "      <td>5</td>\n",
       "    </tr>\n",
       "    <tr>\n",
       "      <th>34314</th>\n",
       "      <td>Vulli Sophie the Giraffe Teether</td>\n",
       "      <td>my son loves this toy and fits great in the diaper bag also very easy to clean just run right under the water seems to help him when he is getting a tooth</td>\n",
       "      <td>5</td>\n",
       "    </tr>\n",
       "    <tr>\n",
       "      <th>34315</th>\n",
       "      <td>Vulli Sophie the Giraffe Teether</td>\n",
       "      <td>there really should be a large warning on the box  sheesh in 2011 with so many anaphylactic latex allergies and latex being an allergy that is caused by repeated exposure why in the world would someone think an all latex teether was a good idea for a baby  this baby teether could have quite easily killed mommy and there was no warning on the packaging that is made of latex</td>\n",
       "      <td>1</td>\n",
       "    </tr>\n",
       "    <tr>\n",
       "      <th>34316</th>\n",
       "      <td>Vulli Sophie the Giraffe Teether</td>\n",
       "      <td>all the moms in my moms group got sophie for their babies so i wondered if there was something to the hype and got one too my daughter loves sophie kids really do love this thing if we heaven forbid ever lost sophie id have to run out and buy another one</td>\n",
       "      <td>5</td>\n",
       "    </tr>\n",
       "    <tr>\n",
       "      <th>34317</th>\n",
       "      <td>Vulli Sophie the Giraffe Teether</td>\n",
       "      <td>i was a little skeptical on whether sophie was going to be worth the money but after it arrived today i am very happy that i bought her  my is almost 6 months old and is getting his two bottom teeth and he has not put her down all day  he even carried her in his hands for 20 minutes while i shopped with him in the bjorn  everything about this toy is wonderful  even the squeak is not like some of those annoying squeaker toys out there  if you are thinking about rather or not to buy sophie take it from me and buy her you will not be disappointed</td>\n",
       "      <td>5</td>\n",
       "    </tr>\n",
       "    <tr>\n",
       "      <th>...</th>\n",
       "      <td>...</td>\n",
       "      <td>...</td>\n",
       "      <td>...</td>\n",
       "    </tr>\n",
       "    <tr>\n",
       "      <th>159649</th>\n",
       "      <td>Vulli Sophie the Giraffe Teether</td>\n",
       "      <td>my baby loves her sophie chew toy she can chew on all sides and the feet it squeaks too provides hours of fun for my little one</td>\n",
       "      <td>5</td>\n",
       "    </tr>\n",
       "    <tr>\n",
       "      <th>159650</th>\n",
       "      <td>Vulli Sophie the Giraffe Teether</td>\n",
       "      <td>sophie the giraffe was a big hit at the baby shower my daughter knew all about sophies attributes and loved receiving her as a baby gift</td>\n",
       "      <td>5</td>\n",
       "    </tr>\n",
       "    <tr>\n",
       "      <th>159651</th>\n",
       "      <td>Vulli Sophie the Giraffe Teether</td>\n",
       "      <td>quick shipping and perfect product i would purchase again very satisfied i bought this for my daughter in law for our baby to be baby shower she loves it</td>\n",
       "      <td>5</td>\n",
       "    </tr>\n",
       "    <tr>\n",
       "      <th>159652</th>\n",
       "      <td>Vulli Sophie the Giraffe Teether</td>\n",
       "      <td>my baby who is currently teething love his sophie i little bit expensive for a chew toy but it does its job</td>\n",
       "      <td>5</td>\n",
       "    </tr>\n",
       "    <tr>\n",
       "      <th>159653</th>\n",
       "      <td>Vulli Sophie the Giraffe Teether</td>\n",
       "      <td>i know several baits that are enjoying the soft flexible sophie giraffe no wonder she made it to the top baby products</td>\n",
       "      <td>5</td>\n",
       "    </tr>\n",
       "  </tbody>\n",
       "</table>\n",
       "<p>785 rows × 3 columns</p>\n",
       "</div>"
      ]
     },
     "execution_count": 239,
     "metadata": {},
     "output_type": "execute_result"
    }
   ],
   "execution_count": 239
  },
  {
   "metadata": {
    "ExecuteTime": {
     "end_time": "2025-06-19T02:01:27.337269Z",
     "start_time": "2025-06-19T02:01:27.216435Z"
    }
   },
   "cell_type": "code",
   "source": [
    "# Знаходимо кількість відгуків по цьому товару\n",
    "len(giraffe_reviews) #785\n",
    "# Аналізуємо оцінки\n",
    "giraffe_reviews.rating.value_counts().sort_index().plot(kind=\"barh\")"
   ],
   "id": "cf7f6b5a9785db53",
   "outputs": [
    {
     "data": {
      "text/plain": [
       "<Axes: ylabel='rating'>"
      ]
     },
     "execution_count": 240,
     "metadata": {},
     "output_type": "execute_result"
    },
    {
     "data": {
      "text/plain": [
       "<Figure size 640x480 with 1 Axes>"
      ],
      "image/png": "[encoded data removed]"
     },
     "metadata": {},
     "output_type": "display_data"
    }
   ],
   "execution_count": 240
  },
  {
   "metadata": {},
   "cell_type": "markdown",
   "source": "## 6. Подивимось на оцінки всіх товарів\n",
   "id": "110fbcf499fcab19"
  },
  {
   "metadata": {
    "ExecuteTime": {
     "end_time": "2025-06-19T02:01:27.430062Z",
     "start_time": "2025-06-19T02:01:27.406501Z"
    }
   },
   "cell_type": "code",
   "source": "products.rating.describe()",
   "id": "7e08d10b896d5215",
   "outputs": [
    {
     "data": {
      "text/plain": [
       "count    183531.000000\n",
       "mean          4.120448\n",
       "std           1.285017\n",
       "min           1.000000\n",
       "25%           4.000000\n",
       "50%           5.000000\n",
       "75%           5.000000\n",
       "max           5.000000\n",
       "Name: rating, dtype: float64"
      ]
     },
     "execution_count": 241,
     "metadata": {},
     "output_type": "execute_result"
    }
   ],
   "execution_count": 241
  },
  {
   "metadata": {},
   "cell_type": "markdown",
   "source": "## 7. Визначаємо позитивні та негативні відгуки",
   "id": "13db3673a338c7f9"
  },
  {
   "metadata": {
    "ExecuteTime": {
     "end_time": "2025-06-19T02:03:09.422795Z",
     "start_time": "2025-06-19T02:03:09.373119Z"
    }
   },
   "cell_type": "code",
   "source": [
    "# Ігноруємо відгуки з оцінкою 3\n",
    "products = products[products.rating != 3]\n",
    "# Додаємо новий стовпчик і помічаємо у ньому позитивні відгуки як 1 (приводимо boolean до int)\n",
    "products[\"sentiment\"] = products.rating >= 4\n",
    "products.sentiment = products.sentiment.astype(int)\n",
    "products"
   ],
   "id": "62daa8cd797f4f87",
   "outputs": [
    {
     "data": {
      "text/plain": [
       "                                                                                                                                                                                                                                                                                                                                                       name  \\\n",
       "1                                                                                                                                                                                                                                                                                                                                     Planetwise Wipe Pouch   \n",
       "2                                                                                                                                                                                                                                                                                                                       Annas Dream Full Quilt with 2 Shams   \n",
       "3                                                                                                                                                                                                                                                         Stop Pacifier Sucking without tears with Thumbuddy To Love's Binky Fairy Puppet and Adorable Book   \n",
       "4                                                                                                                                                                                                                                                         Stop Pacifier Sucking without tears with Thumbuddy To Love's Binky Fairy Puppet and Adorable Book   \n",
       "5                                                                                                                                                                                                                                                         Stop Pacifier Sucking without tears with Thumbuddy To Love's Binky Fairy Puppet and Adorable Book   \n",
       "...                                                                                                                                                                                                                                                                                                                                                     ...   \n",
       "183526                                                                                                                                                                                                                                                                            Baby Teething Necklace for Mom Pretty Donut Shaped Pendant (Smokey Black)   \n",
       "183527                                                                                                                                                                                                                                                                            Baby Teething Necklace for Mom Pretty Donut Shaped Pendant (Smokey Black)   \n",
       "183528                                                                                                                                                                                                                                                                                                     Abstract 2 PK Baby / Toddler Training Cup (Pink)   \n",
       "183529                                                                                                                                            Baby Food Freezer Tray - Bacteria Resistant, BPA and Phthalate Free - FREE Recipe E-book - Silicone Storage Container with Lid for Homemade Baby Food - 9 Easy-Out Portions - Lifetime Guarantee - Purple   \n",
       "183530  Best 2 Pack Baby Car Shade for Kids - Window Shade Baby - Cheapest Baby Sun Shade with Excellent Quality - Great Protection Car Window Shade for Travel, Trips, or Just for Shade - Better Than Britax and Brica - Pop Open Window Shade Cling That Folds to the Size of Your Hand - Twice As Strong As Competitors - Lifetime Money Back Guarantee   \n",
       "\n",
       "                                                                                                                                                                                                                                                                                                                                                                                                                                                                                                                                                                                                                                                                                                                                                                                                                                                                                review  \\\n",
       "1                                                                                                                                                                                                                                                                                                                                                                                                                                                                                                                                                                                                                                                                                                                           it came early and was not disappointed i love planet wise bags and now my wipe holder it keps my osocozy wipes moist and does not leak highly recommend it   \n",
       "2                                                                                                                                                                                                                                                                                                                                                                                                                                                                                                                                                                                                                                                                                                                                            very soft and comfortable and warmer than it looksfit the full size bed perfectlywould recommend to anyone looking for this type of quilt   \n",
       "3                                                                                                                                                                                                                                                                                                                                                                                                                                                                                         this is a product well worth the purchase  i have not found anything else like this and it is a positive ingenious approach to losing the binky  what i love most about this product is how much ownership my daughter has in getting rid of the binky  she is so proud of herself and loves her little fairy  i love the artwork the chart in the back and the clever approach of this tool   \n",
       "4                                                                                                                                                                                                                                                                                                                                                                                                                                                                             all of my kids have cried nonstop when i tried to ween them off their pacifier until i found thumbuddy to loves binky fairy puppet  it is an easy way to work with your kids to allow them to understand where their pacifier is going and help them part from itthis is a must buy book and a great gift for expecting parents  you will save them soo many headachesthanks for this book  you all rock   \n",
       "5                                                                                                                                                                                                                                                                                                                                                                             when the binky fairy came to our house we didnt have any special gift and book to help explain to her about how important it is to stop using a pacifier this book does a great job to help prepare your child for the loss of their favorite item the doll is adorable and we made lots of cute movies with the binky fairy telling our daughter about what happens when the binky fairy comes i would highly recommend this product for any parent trying to break the pacifier or thumb sucking habit   \n",
       "...                                                                                                                                                                                                                                                                                                                                                                                                                                                                                                                                                                                                                                                                                                                                                                                                                                                                                ...   \n",
       "183526                                                                                                                                                                                                                                                                                                                                                                                                                                                                                                                                                                                                                                                                                                                                           such a great idea very handy to have and look really cool too not to mention great for babys gums to help reduce the pain of teething   \n",
       "183527                                                                                                                                                                                                                                                                                                                                                                                                                                                                                                                     this product rocks  it is a great blend of function and fashion  aside from the unique concept of having something easily accessible and cool for baby to play and soothe themselves as cool accessory for mom i probably like most the care in the quality of the product in that it is bpa pvc free latex and leadfree and dishwasher friendly as a bonus   \n",
       "183528                                                                                                                                                                                                                                                                                                                                                                                                                                                                                                                                                                                                                                                                                                                                                                                          this item looks great and cool for my kidsi know this company and its great in quality   \n",
       "183529  i am extremely happy with this product i have been searching for a product like this for a long time and just not found the right one i am a mum who is very into my organic products and unllike many others i have looked at the tutti bimbi freezer tray is also bpa and phthalates free the bright packaging and the ability to choose my colour attracted me to the listing and the fact that i can prepare 9 meals with a very generous portion size for my baby at one time is a massive advantage to me as a working mum i can freeze the tray easily as it comes with a very easy clip on lid that also protects from freezer burn i have found i can also put the baby food tray in the dishwasher fine i would strongly recommend the tutti bimbi baby food freezer tray to any parent like myself who is looking for an easy way to make baby weaning food at home   \n",
       "183530                                                                                                                                                                                                                                                                                                                                                                                                                                                                                                                                                                                                                                                                              i love this product very mush  i have bought many car shades earlier but they never protected me from direct sun exposure  but these really work well and it also keeps the temperature of the car   \n",
       "\n",
       "        rating  sentiment  love_count  wow_count  \n",
       "1            5          1           1          0  \n",
       "2            5          1           0          0  \n",
       "3            5          1           3          0  \n",
       "4            5          1           1          0  \n",
       "5            5          1           0          0  \n",
       "...        ...        ...         ...        ...  \n",
       "183526       5          1           0          0  \n",
       "183527       5          1           0          0  \n",
       "183528       5          1           0          0  \n",
       "183529       5          1           0          0  \n",
       "183530       5          1           1          0  \n",
       "\n",
       "[166752 rows x 6 columns]"
      ],
      "text/html": [
       "<div>\n",
       "<style scoped>\n",
       "    .dataframe tbody tr th:only-of-type {\n",
       "        vertical-align: middle;\n",
       "    }\n",
       "\n",
       "    .dataframe tbody tr th {\n",
       "        vertical-align: top;\n",
       "    }\n",
       "\n",
       "    .dataframe thead th {\n",
       "        text-align: right;\n",
       "    }\n",
       "</style>\n",
       "<table border=\"1\" class=\"dataframe\">\n",
       "  <thead>\n",
       "    <tr style=\"text-align: right;\">\n",
       "      <th></th>\n",
       "      <th>name</th>\n",
       "      <th>review</th>\n",
       "      <th>rating</th>\n",
       "      <th>sentiment</th>\n",
       "      <th>love_count</th>\n",
       "      <th>wow_count</th>\n",
       "    </tr>\n",
       "  </thead>\n",
       "  <tbody>\n",
       "    <tr>\n",
       "      <th>1</th>\n",
       "      <td>Planetwise Wipe Pouch</td>\n",
       "      <td>it came early and was not disappointed i love planet wise bags and now my wipe holder it keps my osocozy wipes moist and does not leak highly recommend it</td>\n",
       "      <td>5</td>\n",
       "      <td>1</td>\n",
       "      <td>1</td>\n",
       "      <td>0</td>\n",
       "    </tr>\n",
       "    <tr>\n",
       "      <th>2</th>\n",
       "      <td>Annas Dream Full Quilt with 2 Shams</td>\n",
       "      <td>very soft and comfortable and warmer than it looksfit the full size bed perfectlywould recommend to anyone looking for this type of quilt</td>\n",
       "      <td>5</td>\n",
       "      <td>1</td>\n",
       "      <td>0</td>\n",
       "      <td>0</td>\n",
       "    </tr>\n",
       "    <tr>\n",
       "      <th>3</th>\n",
       "      <td>Stop Pacifier Sucking without tears with Thumbuddy To Love's Binky Fairy Puppet and Adorable Book</td>\n",
       "      <td>this is a product well worth the purchase  i have not found anything else like this and it is a positive ingenious approach to losing the binky  what i love most about this product is how much ownership my daughter has in getting rid of the binky  she is so proud of herself and loves her little fairy  i love the artwork the chart in the back and the clever approach of this tool</td>\n",
       "      <td>5</td>\n",
       "      <td>1</td>\n",
       "      <td>3</td>\n",
       "      <td>0</td>\n",
       "    </tr>\n",
       "    <tr>\n",
       "      <th>4</th>\n",
       "      <td>Stop Pacifier Sucking without tears with Thumbuddy To Love's Binky Fairy Puppet and Adorable Book</td>\n",
       "      <td>all of my kids have cried nonstop when i tried to ween them off their pacifier until i found thumbuddy to loves binky fairy puppet  it is an easy way to work with your kids to allow them to understand where their pacifier is going and help them part from itthis is a must buy book and a great gift for expecting parents  you will save them soo many headachesthanks for this book  you all rock</td>\n",
       "      <td>5</td>\n",
       "      <td>1</td>\n",
       "      <td>1</td>\n",
       "      <td>0</td>\n",
       "    </tr>\n",
       "    <tr>\n",
       "      <th>5</th>\n",
       "      <td>Stop Pacifier Sucking without tears with Thumbuddy To Love's Binky Fairy Puppet and Adorable Book</td>\n",
       "      <td>when the binky fairy came to our house we didnt have any special gift and book to help explain to her about how important it is to stop using a pacifier this book does a great job to help prepare your child for the loss of their favorite item the doll is adorable and we made lots of cute movies with the binky fairy telling our daughter about what happens when the binky fairy comes i would highly recommend this product for any parent trying to break the pacifier or thumb sucking habit</td>\n",
       "      <td>5</td>\n",
       "      <td>1</td>\n",
       "      <td>0</td>\n",
       "      <td>0</td>\n",
       "    </tr>\n",
       "    <tr>\n",
       "      <th>...</th>\n",
       "      <td>...</td>\n",
       "      <td>...</td>\n",
       "      <td>...</td>\n",
       "      <td>...</td>\n",
       "      <td>...</td>\n",
       "      <td>...</td>\n",
       "    </tr>\n",
       "    <tr>\n",
       "      <th>183526</th>\n",
       "      <td>Baby Teething Necklace for Mom Pretty Donut Shaped Pendant (Smokey Black)</td>\n",
       "      <td>such a great idea very handy to have and look really cool too not to mention great for babys gums to help reduce the pain of teething</td>\n",
       "      <td>5</td>\n",
       "      <td>1</td>\n",
       "      <td>0</td>\n",
       "      <td>0</td>\n",
       "    </tr>\n",
       "    <tr>\n",
       "      <th>183527</th>\n",
       "      <td>Baby Teething Necklace for Mom Pretty Donut Shaped Pendant (Smokey Black)</td>\n",
       "      <td>this product rocks  it is a great blend of function and fashion  aside from the unique concept of having something easily accessible and cool for baby to play and soothe themselves as cool accessory for mom i probably like most the care in the quality of the product in that it is bpa pvc free latex and leadfree and dishwasher friendly as a bonus</td>\n",
       "      <td>5</td>\n",
       "      <td>1</td>\n",
       "      <td>0</td>\n",
       "      <td>0</td>\n",
       "    </tr>\n",
       "    <tr>\n",
       "      <th>183528</th>\n",
       "      <td>Abstract 2 PK Baby / Toddler Training Cup (Pink)</td>\n",
       "      <td>this item looks great and cool for my kidsi know this company and its great in quality</td>\n",
       "      <td>5</td>\n",
       "      <td>1</td>\n",
       "      <td>0</td>\n",
       "      <td>0</td>\n",
       "    </tr>\n",
       "    <tr>\n",
       "      <th>183529</th>\n",
       "      <td>Baby Food Freezer Tray - Bacteria Resistant, BPA and Phthalate Free - FREE Recipe E-book - Silicone Storage Container with Lid for Homemade Baby Food - 9 Easy-Out Portions - Lifetime Guarantee - Purple</td>\n",
       "      <td>i am extremely happy with this product i have been searching for a product like this for a long time and just not found the right one i am a mum who is very into my organic products and unllike many others i have looked at the tutti bimbi freezer tray is also bpa and phthalates free the bright packaging and the ability to choose my colour attracted me to the listing and the fact that i can prepare 9 meals with a very generous portion size for my baby at one time is a massive advantage to me as a working mum i can freeze the tray easily as it comes with a very easy clip on lid that also protects from freezer burn i have found i can also put the baby food tray in the dishwasher fine i would strongly recommend the tutti bimbi baby food freezer tray to any parent like myself who is looking for an easy way to make baby weaning food at home</td>\n",
       "      <td>5</td>\n",
       "      <td>1</td>\n",
       "      <td>0</td>\n",
       "      <td>0</td>\n",
       "    </tr>\n",
       "    <tr>\n",
       "      <th>183530</th>\n",
       "      <td>Best 2 Pack Baby Car Shade for Kids - Window Shade Baby - Cheapest Baby Sun Shade with Excellent Quality - Great Protection Car Window Shade for Travel, Trips, or Just for Shade - Better Than Britax and Brica - Pop Open Window Shade Cling That Folds to the Size of Your Hand - Twice As Strong As Competitors - Lifetime Money Back Guarantee</td>\n",
       "      <td>i love this product very mush  i have bought many car shades earlier but they never protected me from direct sun exposure  but these really work well and it also keeps the temperature of the car</td>\n",
       "      <td>5</td>\n",
       "      <td>1</td>\n",
       "      <td>1</td>\n",
       "      <td>0</td>\n",
       "    </tr>\n",
       "  </tbody>\n",
       "</table>\n",
       "<p>166752 rows × 6 columns</p>\n",
       "</div>"
      ]
     },
     "execution_count": 268,
     "metadata": {},
     "output_type": "execute_result"
    }
   ],
   "execution_count": 268
  },
  {
   "metadata": {},
   "cell_type": "markdown",
   "source": "## 8. Будуємо модель (класифікатор на базі логістичної регресії)\n",
   "id": "412c6289ab8129e"
  },
  {
   "metadata": {
    "ExecuteTime": {
     "end_time": "2025-06-19T02:01:27.759315Z",
     "start_time": "2025-06-19T02:01:27.729763Z"
    }
   },
   "cell_type": "code",
   "source": [
    "X = products.review # Вхідні дані - тексти відгуків\n",
    "y = products.sentiment # Цільова зміна - 1 (позитивний), 0 (негативний)\n",
    "\n",
    "# Проводимо розділення на тренувальний та тестовий набори\n",
    "X_train, X_test, y_train, y_test = train_test_split(X, y, test_size=0.2, random_state=42)"
   ],
   "id": "f96592f31598cf6c",
   "outputs": [],
   "execution_count": 243
  },
  {
   "metadata": {
    "ExecuteTime": {
     "end_time": "2025-06-19T02:01:42.420211Z",
     "start_time": "2025-06-19T02:01:27.880662Z"
    }
   },
   "cell_type": "code",
   "source": [
    "# Будуємо словник на основі відгуків\n",
    "\n",
    "# Створюємо екземпляр класу CountVectorizer\n",
    "vect = CountVectorizer()\n",
    "# Аналізуємо всі відгуки в тренувальний вибірці: знаходимо унікальні слова, запам'ятовуємо в словнику\n",
    "vect.fit(X_train)\n",
    "# Створюємо терм-документну матрицю (матриця, що описує частоту термінів в кожному документі (відгуку) колекції; розмірність - кількість документів x кількість слів)\n",
    "X_train_dtm = vect.transform(X_train)"
   ],
   "id": "b30a350d34c57ab",
   "outputs": [],
   "execution_count": 244
  },
  {
   "metadata": {
    "ExecuteTime": {
     "end_time": "2025-06-19T02:02:07.112592Z",
     "start_time": "2025-06-19T02:01:42.427193Z"
    }
   },
   "cell_type": "code",
   "source": [
    "#Створюємо та навчаємо модель\n",
    "\n",
    "# Векторизуємо тестові дані - створюємо терм-документну матрицю для тестових даних\n",
    "X_test_dtm = vect.transform(X_test)\n",
    "# Створюємо модель логістичної регресії і навчаємо її на тренувальних даних\n",
    "sentiment_model = LogisticRegression(max_iter=1000).fit(X_train_dtm, y_train)"
   ],
   "id": "f314bff8b84ed71e",
   "outputs": [],
   "execution_count": 245
  },
  {
   "metadata": {
    "ExecuteTime": {
     "end_time": "2025-06-19T02:02:07.174526Z",
     "start_time": "2025-06-19T02:02:07.146512Z"
    }
   },
   "cell_type": "code",
   "source": [
    "# Передбачення та оцінка якості моделі\n",
    "\n",
    "# Передбачення\n",
    "predicted = sentiment_model.predict(X_test_dtm)\n",
    "predicted_probability = sentiment_model.predict_proba(X_test_dtm)[:, 1]\n",
    "# Оцінка якості\n",
    "print(f\"Accuracy: {metrics.accuracy_score(y_test, predicted)}\") # accuracy - % вірних передбачень\n",
    "print(f\"ROC AUC: {metrics.roc_auc_score(y_test, predicted_probability)}\") #ROC AUC - якість відділення позитивних від негативних на всіх порогах"
   ],
   "id": "146fdf5457ca6432",
   "outputs": [
    {
     "name": "stdout",
     "output_type": "stream",
     "text": [
      "Accuracy: 0.9325657401577164\n",
      "ROC AUC: 0.9548260472659501\n"
     ]
    }
   ],
   "execution_count": 246
  },
  {
   "metadata": {},
   "cell_type": "markdown",
   "source": "# 9. Використаємо отриману модель для передбачення про товар giraffe\n",
   "id": "149e967943123075"
  },
  {
   "metadata": {
    "ExecuteTime": {
     "end_time": "2025-06-19T02:02:07.251479Z",
     "start_time": "2025-06-19T02:02:07.208999Z"
    }
   },
   "cell_type": "code",
   "source": [
    "# Векторизуємо відгуки\n",
    "giraffe_vect_dtm = vect.transform(giraffe_reviews.review)\n",
    "# Передбачаємо класи\\ймовірність\n",
    "giraffe_reviews[\"predicted_sentiment\"] = sentiment_model.predict(giraffe_vect_dtm)\n",
    "giraffe_reviews[\"sentiment_proba\"] = sentiment_model.predict_proba(giraffe_vect_dtm)[:, 1]"
   ],
   "id": "55539be8bdf65953",
   "outputs": [],
   "execution_count": 247
  },
  {
   "metadata": {
    "ExecuteTime": {
     "end_time": "2025-06-19T02:02:07.298058Z",
     "start_time": "2025-06-19T02:02:07.284834Z"
    }
   },
   "cell_type": "code",
   "source": [
    "# Сортуємо за зменшенням передбачених значень\n",
    "giraffe_reviews = giraffe_reviews.sort_values(\"predicted_sentiment\", ascending=False)\n",
    "giraffe_reviews"
   ],
   "id": "70add4d5a8921435",
   "outputs": [
    {
     "data": {
      "text/plain": [
       "                                    name  \\\n",
       "159653  Vulli Sophie the Giraffe Teether   \n",
       "35080   Vulli Sophie the Giraffe Teether   \n",
       "35079   Vulli Sophie the Giraffe Teether   \n",
       "35078   Vulli Sophie the Giraffe Teether   \n",
       "35077   Vulli Sophie the Giraffe Teether   \n",
       "...                                  ...   \n",
       "34361   Vulli Sophie the Giraffe Teether   \n",
       "34339   Vulli Sophie the Giraffe Teether   \n",
       "35066   Vulli Sophie the Giraffe Teether   \n",
       "35072   Vulli Sophie the Giraffe Teether   \n",
       "35081   Vulli Sophie the Giraffe Teether   \n",
       "\n",
       "                                                                                                                                                                                                                                                                                                                                                                                                                                                                                                                                                                                                                                                                                                                                                                                                                                                                                                                                                                                                                                                                                                                                                                                                                                                                              review  \\\n",
       "159653                                                                                                                                                                                                                                                                                                                                                                                                                                                                                                                                                                                                                                                                                                                                                                                                                                                                                                                                                                                                                                                                                                                                                        i know several baits that are enjoying the soft flexible sophie giraffe no wonder she made it to the top baby products   \n",
       "35080                                                                                                                                                                                                                                                                                                                                                                                                                                                                                                                                                                                                                                                                                                                                                                                                                                                        despite all theses pretty reviews i wish i could know why my son didnt like it i bought 2 of them the first when he was 5 months old and i thought i might introduced it early later and because my neighbor girl kept biting it when she came and they refused to take it my wife cleaned it in the dishwasher  then i had to get him a new one when he was 8 months old unfortunately he didnt like either so i quite   \n",
       "35079                                                                                                                                                                                                                                                                                                                                                                                                                                                                                                                                                                                                                                                                                                                                                                                                                                                                                                                                                                                                                                                                                                                                                                                    it looks not good as expected but it useful it is good for teeth and good quality i like it   \n",
       "35078                                                                                                                                                                                                                                                                                                                                                                                                                                                                                                                                                                                                                                                                                                                                                                                                                                                                                                                                                                                                                                                                                                                                                                       this is a great toy for teething babies we have one for each and they both love it what more can you say   \n",
       "35077                                                                                                                                                                                                                                                                                                                                                                                                                                                                                                                                                                                                                                                                                                                                                                                   i cant say enough about how much i love this my 3 month old loves this toy so much once she gets her little fingers wrapped around it she will not let it go it goes everywhere with us im thinking i need to buy a 2nd one for nanas house id never heard of sophie before my 2nd pregnancy and once i saw it in a magazine i knew i had to have it the price seems a little high for a teething toy but once my daughter saw it and started going crazy for it i knew it was well worth it   \n",
       "...                                                                                                                                                                                                                                                                                                                                                                                                                                                                                                                                                                                                                                                                                                                                                                                                                                                                                                                                                                                                                                                                                                                                                                                                                                                                              ...   \n",
       "34361                                                                                                                                                                                                                                                                                                                                                                                                                                                                                                                                                                                                                                                                                                                             with only a few days worth of minimal play i noticed that the spots on the toy were starting to disappear  i licked my fingertip and gently wiped at the paint  sure enough it came right off  i dont care if the paint is natural i still dont want my baby to ingest iti tried to write to the company that manufactures the product about this defect and i never even heard back from them  they apparently dont care about customer service or the quality of their productsthis is a horrible toy especially considering how expensive it is   \n",
       "34339                                                                                                                                                                                                                                                                                                                                                                                                                                                                                                                                                                                                                                                                                                                                                                                                                                                                                         i cant see how this product can be safe for children color coating on mine has been peeling off from the first day i got it ive shopped from amazon for many years and usually love the products i purchase but this is not just about me not liking it this is a much bigger problem it is about the safety of my baby ill not recommend this product to anybody please do not buy it   \n",
       "35066   i heard so many good reviews about this product and decided i had to try it out with my daughter when i first searched it and saw the price i was astonished wow thats pretty expensive but it sure must be worth it with all the people that have bought them so i gave in and ordered it not wanting to miss out on this great new teething toyi must have bought a different version the toy i received is of no higher quality than a dog toy you would buy at the dollar store a 3 month old would not know the difference its soft rubber so its easy on her gums and she likes to chew on the ears and bottom of sophie not even 10 minutes after i introduced the toy to my daughter the coloring started to peel off its head thats not really safe if you ask me i wouldnt want my baby ingesting plastic peeling i pulled off the part that started peeling though and kept a close eye on it so far the peeling has stopped also my baby loves the squeaking aspect but our dogs also pep up every time they hear it i know that no matter how hard i try to prevent it sooner or later sophie will meet a sad demise as a dog toyneedless to say the product did not live up to my expectations even though my baby likes it just fine it wasnt worth the money   \n",
       "35072                                                                                                                                                                                                                                                                                                                                                                                                                                                                                                                                                                                                                                                                                                                                                                                                                                                                                                                                                                                                               i recently ordered this as a gift and compared the this one to the one my son has and wow u can tell its fake the serial number is hard to read and the rubber is way harder than the authentic ones and its has a funny smells so not the original vulli sophia   \n",
       "35081                                                                                                                                                                                                                                                                                                                                                                                                                                                                                                                                                                                                                                                                                                                                                                                                                                                                                                                                                                                                                                                                                                      my baby is more interested in any other teether or clothes i trust online reviews and successfully bought so many interesting toys except this one it is a waste of money   \n",
       "\n",
       "        rating  predicted_sentiment  sentiment_proba  \n",
       "159653       5                    1         0.954283  \n",
       "35080        2                    1         0.663709  \n",
       "35079        4                    1         0.963817  \n",
       "35078        5                    1         0.995561  \n",
       "35077        5                    1         0.998975  \n",
       "...        ...                  ...              ...  \n",
       "34361        1                    0         0.027864  \n",
       "34339        1                    0         0.035584  \n",
       "35066        3                    0         0.057148  \n",
       "35072        2                    0         0.323461  \n",
       "35081        2                    0         0.204506  \n",
       "\n",
       "[785 rows x 5 columns]"
      ],
      "text/html": [
       "<div>\n",
       "<style scoped>\n",
       "    .dataframe tbody tr th:only-of-type {\n",
       "        vertical-align: middle;\n",
       "    }\n",
       "\n",
       "    .dataframe tbody tr th {\n",
       "        vertical-align: top;\n",
       "    }\n",
       "\n",
       "    .dataframe thead th {\n",
       "        text-align: right;\n",
       "    }\n",
       "</style>\n",
       "<table border=\"1\" class=\"dataframe\">\n",
       "  <thead>\n",
       "    <tr style=\"text-align: right;\">\n",
       "      <th></th>\n",
       "      <th>name</th>\n",
       "      <th>review</th>\n",
       "      <th>rating</th>\n",
       "      <th>predicted_sentiment</th>\n",
       "      <th>sentiment_proba</th>\n",
       "    </tr>\n",
       "  </thead>\n",
       "  <tbody>\n",
       "    <tr>\n",
       "      <th>159653</th>\n",
       "      <td>Vulli Sophie the Giraffe Teether</td>\n",
       "      <td>i know several baits that are enjoying the soft flexible sophie giraffe no wonder she made it to the top baby products</td>\n",
       "      <td>5</td>\n",
       "      <td>1</td>\n",
       "      <td>0.954283</td>\n",
       "    </tr>\n",
       "    <tr>\n",
       "      <th>35080</th>\n",
       "      <td>Vulli Sophie the Giraffe Teether</td>\n",
       "      <td>despite all theses pretty reviews i wish i could know why my son didnt like it i bought 2 of them the first when he was 5 months old and i thought i might introduced it early later and because my neighbor girl kept biting it when she came and they refused to take it my wife cleaned it in the dishwasher  then i had to get him a new one when he was 8 months old unfortunately he didnt like either so i quite</td>\n",
       "      <td>2</td>\n",
       "      <td>1</td>\n",
       "      <td>0.663709</td>\n",
       "    </tr>\n",
       "    <tr>\n",
       "      <th>35079</th>\n",
       "      <td>Vulli Sophie the Giraffe Teether</td>\n",
       "      <td>it looks not good as expected but it useful it is good for teeth and good quality i like it</td>\n",
       "      <td>4</td>\n",
       "      <td>1</td>\n",
       "      <td>0.963817</td>\n",
       "    </tr>\n",
       "    <tr>\n",
       "      <th>35078</th>\n",
       "      <td>Vulli Sophie the Giraffe Teether</td>\n",
       "      <td>this is a great toy for teething babies we have one for each and they both love it what more can you say</td>\n",
       "      <td>5</td>\n",
       "      <td>1</td>\n",
       "      <td>0.995561</td>\n",
       "    </tr>\n",
       "    <tr>\n",
       "      <th>35077</th>\n",
       "      <td>Vulli Sophie the Giraffe Teether</td>\n",
       "      <td>i cant say enough about how much i love this my 3 month old loves this toy so much once she gets her little fingers wrapped around it she will not let it go it goes everywhere with us im thinking i need to buy a 2nd one for nanas house id never heard of sophie before my 2nd pregnancy and once i saw it in a magazine i knew i had to have it the price seems a little high for a teething toy but once my daughter saw it and started going crazy for it i knew it was well worth it</td>\n",
       "      <td>5</td>\n",
       "      <td>1</td>\n",
       "      <td>0.998975</td>\n",
       "    </tr>\n",
       "    <tr>\n",
       "      <th>...</th>\n",
       "      <td>...</td>\n",
       "      <td>...</td>\n",
       "      <td>...</td>\n",
       "      <td>...</td>\n",
       "      <td>...</td>\n",
       "    </tr>\n",
       "    <tr>\n",
       "      <th>34361</th>\n",
       "      <td>Vulli Sophie the Giraffe Teether</td>\n",
       "      <td>with only a few days worth of minimal play i noticed that the spots on the toy were starting to disappear  i licked my fingertip and gently wiped at the paint  sure enough it came right off  i dont care if the paint is natural i still dont want my baby to ingest iti tried to write to the company that manufactures the product about this defect and i never even heard back from them  they apparently dont care about customer service or the quality of their productsthis is a horrible toy especially considering how expensive it is</td>\n",
       "      <td>1</td>\n",
       "      <td>0</td>\n",
       "      <td>0.027864</td>\n",
       "    </tr>\n",
       "    <tr>\n",
       "      <th>34339</th>\n",
       "      <td>Vulli Sophie the Giraffe Teether</td>\n",
       "      <td>i cant see how this product can be safe for children color coating on mine has been peeling off from the first day i got it ive shopped from amazon for many years and usually love the products i purchase but this is not just about me not liking it this is a much bigger problem it is about the safety of my baby ill not recommend this product to anybody please do not buy it</td>\n",
       "      <td>1</td>\n",
       "      <td>0</td>\n",
       "      <td>0.035584</td>\n",
       "    </tr>\n",
       "    <tr>\n",
       "      <th>35066</th>\n",
       "      <td>Vulli Sophie the Giraffe Teether</td>\n",
       "      <td>i heard so many good reviews about this product and decided i had to try it out with my daughter when i first searched it and saw the price i was astonished wow thats pretty expensive but it sure must be worth it with all the people that have bought them so i gave in and ordered it not wanting to miss out on this great new teething toyi must have bought a different version the toy i received is of no higher quality than a dog toy you would buy at the dollar store a 3 month old would not know the difference its soft rubber so its easy on her gums and she likes to chew on the ears and bottom of sophie not even 10 minutes after i introduced the toy to my daughter the coloring started to peel off its head thats not really safe if you ask me i wouldnt want my baby ingesting plastic peeling i pulled off the part that started peeling though and kept a close eye on it so far the peeling has stopped also my baby loves the squeaking aspect but our dogs also pep up every time they hear it i know that no matter how hard i try to prevent it sooner or later sophie will meet a sad demise as a dog toyneedless to say the product did not live up to my expectations even though my baby likes it just fine it wasnt worth the money</td>\n",
       "      <td>3</td>\n",
       "      <td>0</td>\n",
       "      <td>0.057148</td>\n",
       "    </tr>\n",
       "    <tr>\n",
       "      <th>35072</th>\n",
       "      <td>Vulli Sophie the Giraffe Teether</td>\n",
       "      <td>i recently ordered this as a gift and compared the this one to the one my son has and wow u can tell its fake the serial number is hard to read and the rubber is way harder than the authentic ones and its has a funny smells so not the original vulli sophia</td>\n",
       "      <td>2</td>\n",
       "      <td>0</td>\n",
       "      <td>0.323461</td>\n",
       "    </tr>\n",
       "    <tr>\n",
       "      <th>35081</th>\n",
       "      <td>Vulli Sophie the Giraffe Teether</td>\n",
       "      <td>my baby is more interested in any other teether or clothes i trust online reviews and successfully bought so many interesting toys except this one it is a waste of money</td>\n",
       "      <td>2</td>\n",
       "      <td>0</td>\n",
       "      <td>0.204506</td>\n",
       "    </tr>\n",
       "  </tbody>\n",
       "</table>\n",
       "<p>785 rows × 5 columns</p>\n",
       "</div>"
      ]
     },
     "execution_count": 248,
     "metadata": {},
     "output_type": "execute_result"
    }
   ],
   "execution_count": 248
  },
  {
   "metadata": {
    "ExecuteTime": {
     "end_time": "2025-06-19T02:02:07.392066Z",
     "start_time": "2025-06-19T02:02:07.378187Z"
    }
   },
   "cell_type": "code",
   "source": [
    "# Поглянемо на найкращий відгук\n",
    "giraffe_reviews.review.iat[0]"
   ],
   "id": "69e6978fb92b414c",
   "outputs": [
    {
     "data": {
      "text/plain": [
       "'i know several baits that are enjoying the soft flexible sophie giraffe no wonder she made it to the top baby products'"
      ]
     },
     "execution_count": 249,
     "metadata": {},
     "output_type": "execute_result"
    }
   ],
   "execution_count": 249
  },
  {
   "metadata": {
    "ExecuteTime": {
     "end_time": "2025-06-19T02:02:07.468902Z",
     "start_time": "2025-06-19T02:02:07.455393Z"
    }
   },
   "cell_type": "code",
   "source": [
    "# Поглянемо на наступний відгук\n",
    "giraffe_reviews.review.iat[1]"
   ],
   "id": "7ec402a82f44bbe6",
   "outputs": [
    {
     "data": {
      "text/plain": [
       "'despite all theses pretty reviews i wish i could know why my son didnt like it i bought 2 of them the first when he was 5 months old and i thought i might introduced it early later and because my neighbor girl kept biting it when she came and they refused to take it my wife cleaned it in the dishwasher  then i had to get him a new one when he was 8 months old unfortunately he didnt like either so i quite'"
      ]
     },
     "execution_count": 250,
     "metadata": {},
     "output_type": "execute_result"
    }
   ],
   "execution_count": 250
  },
  {
   "metadata": {
    "ExecuteTime": {
     "end_time": "2025-06-19T02:02:07.547434Z",
     "start_time": "2025-06-19T02:02:07.527902Z"
    }
   },
   "cell_type": "code",
   "source": [
    "# Знайдемо найнегативніший відгук і наступний за ним\n",
    "giraffe_reviews.review.iat[-1]"
   ],
   "id": "cec619e432b23260",
   "outputs": [
    {
     "data": {
      "text/plain": [
       "'my baby is more interested in any other teether or clothes i trust online reviews and successfully bought so many interesting toys except this one it is a waste of money'"
      ]
     },
     "execution_count": 251,
     "metadata": {},
     "output_type": "execute_result"
    }
   ],
   "execution_count": 251
  },
  {
   "metadata": {
    "ExecuteTime": {
     "end_time": "2025-06-19T02:02:07.608838Z",
     "start_time": "2025-06-19T02:02:07.601684Z"
    }
   },
   "cell_type": "code",
   "source": "giraffe_reviews.review.iat[-3]",
   "id": "8c31344cac08b682",
   "outputs": [
    {
     "data": {
      "text/plain": [
       "'i heard so many good reviews about this product and decided i had to try it out with my daughter when i first searched it and saw the price i was astonished wow thats pretty expensive but it sure must be worth it with all the people that have bought them so i gave in and ordered it not wanting to miss out on this great new teething toyi must have bought a different version the toy i received is of no higher quality than a dog toy you would buy at the dollar store a 3 month old would not know the difference its soft rubber so its easy on her gums and she likes to chew on the ears and bottom of sophie not even 10 minutes after i introduced the toy to my daughter the coloring started to peel off its head thats not really safe if you ask me i wouldnt want my baby ingesting plastic peeling i pulled off the part that started peeling though and kept a close eye on it so far the peeling has stopped also my baby loves the squeaking aspect but our dogs also pep up every time they hear it i know that no matter how hard i try to prevent it sooner or later sophie will meet a sad demise as a dog toyneedless to say the product did not live up to my expectations even though my baby likes it just fine it wasnt worth the money'"
      ]
     },
     "execution_count": 252,
     "metadata": {},
     "output_type": "execute_result"
    }
   ],
   "execution_count": 252
  },
  {
   "metadata": {},
   "cell_type": "markdown",
   "source": [
    "## Домашнє завдання\n",
    "\n",
    "Будемо використовувати для навчання нової моделі не всі слова із відгуків, а тільки деякі (__№5 'love' - 'wow'__).\n",
    "\n",
    "1. Створити два нових стовпчики в таблиці, що містять кожний тільки кількість одного слова. Знайти кількість кожного зі слів у відповідних стовпчиках."
   ],
   "id": "9fd9358758134d41"
  },
  {
   "metadata": {
    "ExecuteTime": {
     "end_time": "2025-06-19T02:03:15.194580Z",
     "start_time": "2025-06-19T02:03:14.887414Z"
    }
   },
   "cell_type": "code",
   "source": [
    "products[\"love_count\"] = products.review.apply(lambda x: x.count(\"love\"))\n",
    "products[\"wow_count\"] = products.review.apply(lambda x: x.count(\"wow\"))"
   ],
   "id": "627a6fc22c96f759",
   "outputs": [],
   "execution_count": 269
  },
  {
   "metadata": {},
   "cell_type": "markdown",
   "source": [
    "2. Побудувати модель, що використовує кількості тільки двох слів як ознаки.\n",
    "   Вивести коефіцієнти моделі (ваги слів) - провести інтерпретацію їх значень.\n"
   ],
   "id": "1f7893a388fb507a"
  },
  {
   "metadata": {
    "ExecuteTime": {
     "end_time": "2025-06-19T02:02:08.012Z",
     "start_time": "2025-06-19T02:02:07.981529Z"
    }
   },
   "cell_type": "code",
   "source": [
    "X_1 = products[[\"love_count\", \"wow_count\"]] # Вхідні дані - кількості слів 'love' та 'wow' в кожному відгуку\n",
    "y_1 = products[\"sentiment\"] # Цільова зміна - 1 (позитивний), 0(негативний).\n",
    "\n",
    "# Проводимо розділення на тренувальний та тестовий набори\n",
    "X_train_1, X_test_1, y_train_1, y_test_1 = train_test_split(X_1, y_1, test_size=0.2, random_state=42)"
   ],
   "id": "b51b428165774a59",
   "outputs": [],
   "execution_count": 254
  },
  {
   "metadata": {
    "ExecuteTime": {
     "end_time": "2025-06-19T02:02:08.074253Z",
     "start_time": "2025-06-19T02:02:08.015997Z"
    }
   },
   "cell_type": "code",
   "source": [
    "# Створюємо і навчаємо модель\n",
    "sentiment_model_1 = LogisticRegression().fit(X_train_1, y_train_1)"
   ],
   "id": "cbccffb6d30bd62f",
   "outputs": [],
   "execution_count": 255
  },
  {
   "metadata": {
    "ExecuteTime": {
     "end_time": "2025-06-19T02:02:08.121204Z",
     "start_time": "2025-06-19T02:02:08.108721Z"
    }
   },
   "cell_type": "code",
   "source": [
    "# Виводимо коефіцієнти моделі\n",
    "weights = sentiment_model_1.coef_[0]\n",
    "print(f\"Вага слова 'love': {weights[0]:.3f}\")\n",
    "print(f\"Вага слова 'wow': {weights[1]:.3f}\")"
   ],
   "id": "cc3bc976fb288824",
   "outputs": [
    {
     "name": "stdout",
     "output_type": "stream",
     "text": [
      "Вага слова 'love': 1.234\n",
      "Вага слова 'wow': -0.001\n"
     ]
    }
   ],
   "execution_count": 256
  },
  {
   "metadata": {
    "ExecuteTime": {
     "end_time": "2025-06-19T02:02:08.262160Z",
     "start_time": "2025-06-19T02:02:08.168952Z"
    }
   },
   "cell_type": "code",
   "source": [
    "# Візуалізуємо вплив коефіцієнтів слів на передбачення\n",
    "words = [\"love\", \"wow\"]\n",
    "\n",
    "plt.bar(words, weights, color=['green', 'red'])\n",
    "plt.title(\"Вплив слів на передбачення (ваги моделі)\")\n",
    "plt.ylabel(\"Вага\")\n",
    "plt.grid(True, axis='y', linestyle='--', alpha=0.7)\n",
    "plt.show()"
   ],
   "id": "ae546c4ee77eaca4",
   "outputs": [
    {
     "data": {
      "text/plain": [
       "<Figure size 640x480 with 1 Axes>"
      ],
      "image/png": "[encoded data removed]"
     },
     "metadata": {},
     "output_type": "display_data"
    }
   ],
   "execution_count": 257
  },
  {
   "metadata": {},
   "cell_type": "markdown",
   "source": [
    "##### Інтерпретація значень коефіцієнтів\n",
    "1. `love_count` має сильний позитивний вплив; чим більше слово __'love'__ зустрічається у відгуку, тим вища ймовірність, що він буде класифікований як позитивний.\n",
    "2. `wow_count` має майже нульовий або слабкий негативний вплив; слово __'wow'__ не дає суттєвої інформації для класифікації, або навіть трохи зменшує ймовірність позитивного відгуку; значення дуже маленьке, тому скоріш за все модель його ігнорує."
   ],
   "id": "d63b499038a500c8"
  },
  {
   "metadata": {},
   "cell_type": "markdown",
   "source": "3. Вивести точність нової моделі, порівняти з точністю моделі, що побудована на всіх словах.\n",
   "id": "28685a52fc692dd9"
  },
  {
   "metadata": {
    "ExecuteTime": {
     "end_time": "2025-06-19T02:02:08.323243Z",
     "start_time": "2025-06-19T02:02:08.295853Z"
    }
   },
   "cell_type": "code",
   "source": [
    "# Передбачення та оцінка якості моделі\n",
    "\n",
    "# Передбачення\n",
    "predicted_1 = sentiment_model_1.predict(X_test_1)\n",
    "predicted_probability_1 = sentiment_model_1.predict_proba(X_test_1)[:, 1]\n",
    "\n",
    "# Оцінка якості та порівняння\n",
    "print(\"Sentiment model (based on review text): \")\n",
    "print(f\"Accuracy: {metrics.accuracy_score(y_test, predicted)}\")\n",
    "print(f\"ROC AUC: {metrics.roc_auc_score(y_test, predicted_probability)}\\n\")\n",
    "\n",
    "print(\"Sentiment model 1 (based on specific words (love-wow) count): \")\n",
    "print(f\"Accuracy: {metrics.accuracy_score(y_test_1, predicted_1)}\")\n",
    "print(f\"ROC AUC: {metrics.roc_auc_score(y_test_1, predicted_probability_1)}\")"
   ],
   "id": "1ac48f133ab25d2b",
   "outputs": [
    {
     "name": "stdout",
     "output_type": "stream",
     "text": [
      "Sentiment model (based on review text): \n",
      "Accuracy: 0.9325657401577164\n",
      "ROC AUC: 0.9548260472659501\n",
      "\n",
      "Sentiment model 1 (based on specific words (love-wow) count): \n",
      "Accuracy: 0.8418638121795449\n",
      "ROC AUC: 0.6357582739886355\n"
     ]
    }
   ],
   "execution_count": 258
  },
  {
   "metadata": {
    "ExecuteTime": {
     "end_time": "2025-06-19T02:02:08.571430Z",
     "start_time": "2025-06-19T02:02:08.374761Z"
    }
   },
   "cell_type": "code",
   "source": [
    "# Створення ROC-кривих для візуалізації якості розподілення моделей\n",
    "from sklearn.metrics import roc_curve\n",
    "\n",
    "# Побудова ROC-кривої для моделі на основі повного тексту\n",
    "fpr_full, tpr_full, _ = roc_curve(y_test, predicted_probability)\n",
    "\n",
    "# Побудова ROC-кривої для моделі, яка використовує тільки 'love' та 'wow'\n",
    "fpr_limited, tpr_limited, _ = roc_curve(y_test_1, predicted_probability_1)\n",
    "\n",
    "# Візуалізація\n",
    "plt.figure(figsize=(8, 6))\n",
    "plt.plot(fpr_full, tpr_full, label='Full text model', linewidth=2, color='orange')\n",
    "plt.plot(fpr_limited, tpr_limited, label='Model (love & wow only)', linewidth=2, color='coral')\n",
    "plt.plot([0, 1], [0, 1], 'k--', label='Random guess')\n",
    "\n",
    "plt.title(\"ROC-криві для обох моделей\")\n",
    "plt.xlabel(\"False Positive Rate\")\n",
    "plt.ylabel(\"True Positive Rate\")\n",
    "plt.legend()\n",
    "plt.grid(True)\n",
    "plt.tight_layout()\n",
    "plt.show()\n"
   ],
   "id": "4928d0ab90a082ad",
   "outputs": [
    {
     "data": {
      "text/plain": [
       "<Figure size 800x600 with 1 Axes>"
      ],
      "image/png": "[encoded data removed]"
     },
     "metadata": {},
     "output_type": "display_data"
    }
   ],
   "execution_count": 259
  },
  {
   "metadata": {},
   "cell_type": "markdown",
   "source": [
    "##### Висновки порівняння двох моделей\n",
    "\n",
    "- **Модель 1 (на основі всього тексту):**\n",
    "  - Точність (Accuracy): **93%**\n",
    "  - ROC AUC: **95%**\n",
    "  - Висока якість класифікації, враховує повний контекст.\n",
    "\n",
    "- **Модель 2 (на основі лише кількості слів 'love' і 'wow'):**\n",
    "  - Точність (Accuracy): **84%**\n",
    "  - ROC AUC: **63%**\n",
    "  - Просте рішення, легко інтерпретується, але суттєво гірше за точністю.\n",
    "\n",
    "**Висновок:** модель, що враховує всі слова, значно краще класифікує відгуки. Модель на двох словах може бути використана для базового аналізу або демонстрації впливу окремих термінів.\n"
   ],
   "id": "5e72f74c7e5d0814"
  },
  {
   "metadata": {},
   "cell_type": "markdown",
   "source": [
    "4. Провести аналіз прогнозів по новій моделі на прикладі іншого товару:\n",
    "   * зробити фільтрацію та створити нову таблицю тільки з цим товаром;\n",
    "   * створити в ній новий стовпчик, в який записати передбачені значення по новій моделі;\n",
    "   * сортувати нову таблицю за спаданням прогнозних значень;\n",
    "   * вивести по два найкращих і найгірших відгуків.\n",
    "\n"
   ],
   "id": "8f23e6428b101df"
  },
  {
   "metadata": {
    "ExecuteTime": {
     "end_time": "2025-06-19T02:02:08.663074Z",
     "start_time": "2025-06-19T02:02:08.620219Z"
    }
   },
   "cell_type": "code",
   "source": [
    "# Знаходимо третій за популярністю товар\n",
    "third_popular = products.name.value_counts().index[2]\n",
    "# Виділяємо рядки з цим товаром\n",
    "toy_reviews = products[products.name == third_popular].copy()\n",
    "toy_reviews"
   ],
   "id": "46633b8d0af4288e",
   "outputs": [
    {
     "data": {
      "text/plain": [
       "                                 name  \\\n",
       "51473  Baby Einstein Take Along Tunes   \n",
       "51474  Baby Einstein Take Along Tunes   \n",
       "51475  Baby Einstein Take Along Tunes   \n",
       "51476  Baby Einstein Take Along Tunes   \n",
       "51477  Baby Einstein Take Along Tunes   \n",
       "...                               ...   \n",
       "52014  Baby Einstein Take Along Tunes   \n",
       "52015  Baby Einstein Take Along Tunes   \n",
       "52016  Baby Einstein Take Along Tunes   \n",
       "52017  Baby Einstein Take Along Tunes   \n",
       "52018  Baby Einstein Take Along Tunes   \n",
       "\n",
       "                                                                                                                                                                                                                                                                                                                                                                                                                                                                                review  \\\n",
       "51473                                                                                                                                                                                                                                                                                                                                                                     5 month old likes it seems to keep her attention for a few minutes cute little radio for babies and toddlers   \n",
       "51474                                                                                                                                                                                                                                                                                                                                                                                a copy of so many other things out there only one place to grab hold of and i would not buy again   \n",
       "51475                                                                        a friend recommended this toy and now i understand why babies love this toy she has been playing with it for months and the songs and lights still entertain her in fact i took it with us at her 6mth shots and it was the only thing that stopped her crying i like that the songs arent obnoxious there are two volume choices and you cant beat the price would recommend to anyone with a young baby   \n",
       "51476  after several friends recommended this little toy i ordered from amazon my son is 7 months old and has been enjoying this since he was born  it lights up and plays several tunes  he loves it so much  if he is fussy we give him this toy and he is immediately quiet  it is also very durable it has been dropped and thrown on the ground a lot and is still going  i recommend this toy to all of my friends i am considering buying a second one to keep in my diaper bag   \n",
       "51477                                                                                                                                                                             after watching my 1 year old nephew play with his toy for a year i was please to recieve one of these as a gist for my baby he is 7 months now and loves his great chewy great to listen to and watch not annoying for mom it is very easy for him to hold and fairly lightweight highly recommended   \n",
       "...                                                                                                                                                                                                                                                                                                                                                                                                                                                                                ...   \n",
       "52014                                                                                                                             this is a great little music player it has an off switch always important a low volume and a louder volume the music is all instrumental with no strange or annoying voices singing  the classical music is all upbeat and my 16 month old loves it he dances to any musiceven commercials and tv programs  he loves being able to carry this around   \n",
       "52015                                                                                                                                                                                                                                                                                                                                                                                          my 7 month old son likes it very much whenever i give it to him he can play for a while   \n",
       "52016                                                                                                                                                                                                                                                                                       one of the few baby toys available which has very soothing tones the volume options are also perfect  high volume is not blaring  my daughter loves to look at the vibrant changing colors   \n",
       "52017                                                                                                                                                                                                                                                                                                                    my baby loves this toy it has two volume levels so you can control the volume which i greatly appreciate  its easy for him to control and he enjoys the music   \n",
       "52018                                                                                                                                                                                                                                                                                                                           love this thing it has great music and goes everywhere the lights really catch my 5 month olds attention if you like classical music you should buy it   \n",
       "\n",
       "       rating  sentiment  love_count  wow_count  \n",
       "51473       5          1           0          0  \n",
       "51474       2          0           0          0  \n",
       "51475       5          1           1          0  \n",
       "51476       5          1           1          0  \n",
       "51477       5          1           1          0  \n",
       "...       ...        ...         ...        ...  \n",
       "52014       5          1           2          0  \n",
       "52015       5          1           0          0  \n",
       "52016       5          1           1          0  \n",
       "52017       5          1           1          0  \n",
       "52018       5          1           1          0  \n",
       "\n",
       "[526 rows x 6 columns]"
      ],
      "text/html": [
       "<div>\n",
       "<style scoped>\n",
       "    .dataframe tbody tr th:only-of-type {\n",
       "        vertical-align: middle;\n",
       "    }\n",
       "\n",
       "    .dataframe tbody tr th {\n",
       "        vertical-align: top;\n",
       "    }\n",
       "\n",
       "    .dataframe thead th {\n",
       "        text-align: right;\n",
       "    }\n",
       "</style>\n",
       "<table border=\"1\" class=\"dataframe\">\n",
       "  <thead>\n",
       "    <tr style=\"text-align: right;\">\n",
       "      <th></th>\n",
       "      <th>name</th>\n",
       "      <th>review</th>\n",
       "      <th>rating</th>\n",
       "      <th>sentiment</th>\n",
       "      <th>love_count</th>\n",
       "      <th>wow_count</th>\n",
       "    </tr>\n",
       "  </thead>\n",
       "  <tbody>\n",
       "    <tr>\n",
       "      <th>51473</th>\n",
       "      <td>Baby Einstein Take Along Tunes</td>\n",
       "      <td>5 month old likes it seems to keep her attention for a few minutes cute little radio for babies and toddlers</td>\n",
       "      <td>5</td>\n",
       "      <td>1</td>\n",
       "      <td>0</td>\n",
       "      <td>0</td>\n",
       "    </tr>\n",
       "    <tr>\n",
       "      <th>51474</th>\n",
       "      <td>Baby Einstein Take Along Tunes</td>\n",
       "      <td>a copy of so many other things out there only one place to grab hold of and i would not buy again</td>\n",
       "      <td>2</td>\n",
       "      <td>0</td>\n",
       "      <td>0</td>\n",
       "      <td>0</td>\n",
       "    </tr>\n",
       "    <tr>\n",
       "      <th>51475</th>\n",
       "      <td>Baby Einstein Take Along Tunes</td>\n",
       "      <td>a friend recommended this toy and now i understand why babies love this toy she has been playing with it for months and the songs and lights still entertain her in fact i took it with us at her 6mth shots and it was the only thing that stopped her crying i like that the songs arent obnoxious there are two volume choices and you cant beat the price would recommend to anyone with a young baby</td>\n",
       "      <td>5</td>\n",
       "      <td>1</td>\n",
       "      <td>1</td>\n",
       "      <td>0</td>\n",
       "    </tr>\n",
       "    <tr>\n",
       "      <th>51476</th>\n",
       "      <td>Baby Einstein Take Along Tunes</td>\n",
       "      <td>after several friends recommended this little toy i ordered from amazon my son is 7 months old and has been enjoying this since he was born  it lights up and plays several tunes  he loves it so much  if he is fussy we give him this toy and he is immediately quiet  it is also very durable it has been dropped and thrown on the ground a lot and is still going  i recommend this toy to all of my friends i am considering buying a second one to keep in my diaper bag</td>\n",
       "      <td>5</td>\n",
       "      <td>1</td>\n",
       "      <td>1</td>\n",
       "      <td>0</td>\n",
       "    </tr>\n",
       "    <tr>\n",
       "      <th>51477</th>\n",
       "      <td>Baby Einstein Take Along Tunes</td>\n",
       "      <td>after watching my 1 year old nephew play with his toy for a year i was please to recieve one of these as a gist for my baby he is 7 months now and loves his great chewy great to listen to and watch not annoying for mom it is very easy for him to hold and fairly lightweight highly recommended</td>\n",
       "      <td>5</td>\n",
       "      <td>1</td>\n",
       "      <td>1</td>\n",
       "      <td>0</td>\n",
       "    </tr>\n",
       "    <tr>\n",
       "      <th>...</th>\n",
       "      <td>...</td>\n",
       "      <td>...</td>\n",
       "      <td>...</td>\n",
       "      <td>...</td>\n",
       "      <td>...</td>\n",
       "      <td>...</td>\n",
       "    </tr>\n",
       "    <tr>\n",
       "      <th>52014</th>\n",
       "      <td>Baby Einstein Take Along Tunes</td>\n",
       "      <td>this is a great little music player it has an off switch always important a low volume and a louder volume the music is all instrumental with no strange or annoying voices singing  the classical music is all upbeat and my 16 month old loves it he dances to any musiceven commercials and tv programs  he loves being able to carry this around</td>\n",
       "      <td>5</td>\n",
       "      <td>1</td>\n",
       "      <td>2</td>\n",
       "      <td>0</td>\n",
       "    </tr>\n",
       "    <tr>\n",
       "      <th>52015</th>\n",
       "      <td>Baby Einstein Take Along Tunes</td>\n",
       "      <td>my 7 month old son likes it very much whenever i give it to him he can play for a while</td>\n",
       "      <td>5</td>\n",
       "      <td>1</td>\n",
       "      <td>0</td>\n",
       "      <td>0</td>\n",
       "    </tr>\n",
       "    <tr>\n",
       "      <th>52016</th>\n",
       "      <td>Baby Einstein Take Along Tunes</td>\n",
       "      <td>one of the few baby toys available which has very soothing tones the volume options are also perfect  high volume is not blaring  my daughter loves to look at the vibrant changing colors</td>\n",
       "      <td>5</td>\n",
       "      <td>1</td>\n",
       "      <td>1</td>\n",
       "      <td>0</td>\n",
       "    </tr>\n",
       "    <tr>\n",
       "      <th>52017</th>\n",
       "      <td>Baby Einstein Take Along Tunes</td>\n",
       "      <td>my baby loves this toy it has two volume levels so you can control the volume which i greatly appreciate  its easy for him to control and he enjoys the music</td>\n",
       "      <td>5</td>\n",
       "      <td>1</td>\n",
       "      <td>1</td>\n",
       "      <td>0</td>\n",
       "    </tr>\n",
       "    <tr>\n",
       "      <th>52018</th>\n",
       "      <td>Baby Einstein Take Along Tunes</td>\n",
       "      <td>love this thing it has great music and goes everywhere the lights really catch my 5 month olds attention if you like classical music you should buy it</td>\n",
       "      <td>5</td>\n",
       "      <td>1</td>\n",
       "      <td>1</td>\n",
       "      <td>0</td>\n",
       "    </tr>\n",
       "  </tbody>\n",
       "</table>\n",
       "<p>526 rows × 6 columns</p>\n",
       "</div>"
      ]
     },
     "execution_count": 260,
     "metadata": {},
     "output_type": "execute_result"
    }
   ],
   "execution_count": 260
  },
  {
   "metadata": {
    "ExecuteTime": {
     "end_time": "2025-06-19T02:02:08.869285Z",
     "start_time": "2025-06-19T02:02:08.759294Z"
    }
   },
   "cell_type": "code",
   "source": [
    "#Аналізуємо оцінки\n",
    "toy_reviews.rating.value_counts().sort_index().plot(kind=\"barh\")"
   ],
   "id": "cf7ad2c0b5957e5",
   "outputs": [
    {
     "data": {
      "text/plain": [
       "<Axes: ylabel='rating'>"
      ]
     },
     "execution_count": 261,
     "metadata": {},
     "output_type": "execute_result"
    },
    {
     "data": {
      "text/plain": [
       "<Figure size 640x480 with 1 Axes>"
      ],
      "image/png": "[encoded data removed]"
     },
     "metadata": {},
     "output_type": "display_data"
    }
   ],
   "execution_count": 261
  },
  {
   "metadata": {
    "ExecuteTime": {
     "end_time": "2025-06-19T02:02:08.932234Z",
     "start_time": "2025-06-19T02:02:08.922444Z"
    }
   },
   "cell_type": "code",
   "source": [
    "# Передбачаємо значення по новій моделі\n",
    "X_test_2 = toy_reviews[['love_count', 'wow_count']]\n",
    "\n",
    "toy_reviews[\"predicted_sentiment\"] = sentiment_model_1.predict(X_test_2)\n",
    "toy_reviews[\"predicted_probability\"]  = sentiment_model_1.predict_proba(X_test_2)[:, 1]"
   ],
   "id": "56ec4c2765c99750",
   "outputs": [],
   "execution_count": 262
  },
  {
   "metadata": {
    "ExecuteTime": {
     "end_time": "2025-06-19T02:02:09.087829Z",
     "start_time": "2025-06-19T02:02:09.061636Z"
    }
   },
   "cell_type": "code",
   "source": [
    "# Сортуємо за зменшенням передбачених значень\n",
    "toy_reviews = toy_reviews.sort_values(\"predicted_sentiment\", ascending=False)\n",
    "toy_reviews"
   ],
   "id": "de46b7c5c7694e2b",
   "outputs": [
    {
     "data": {
      "text/plain": [
       "                                 name  \\\n",
       "52018  Baby Einstein Take Along Tunes   \n",
       "51473  Baby Einstein Take Along Tunes   \n",
       "51474  Baby Einstein Take Along Tunes   \n",
       "51475  Baby Einstein Take Along Tunes   \n",
       "51476  Baby Einstein Take Along Tunes   \n",
       "...                               ...   \n",
       "51492  Baby Einstein Take Along Tunes   \n",
       "51491  Baby Einstein Take Along Tunes   \n",
       "51489  Baby Einstein Take Along Tunes   \n",
       "51488  Baby Einstein Take Along Tunes   \n",
       "51487  Baby Einstein Take Along Tunes   \n",
       "\n",
       "                                                                                                                                                                                                                                                                                                                                                                                                                                                                                                                                                                                                                                                                                      review  \\\n",
       "52018                                                                                                                                                                                                                                                                                                                                                                                                                                                                                                                                 love this thing it has great music and goes everywhere the lights really catch my 5 month olds attention if you like classical music you should buy it   \n",
       "51473                                                                                                                                                                                                                                                                                                                                                                                                                                                                                                                                                                           5 month old likes it seems to keep her attention for a few minutes cute little radio for babies and toddlers   \n",
       "51474                                                                                                                                                                                                                                                                                                                                                                                                                                                                                                                                                                                      a copy of so many other things out there only one place to grab hold of and i would not buy again   \n",
       "51475                                                                                                                                                                                                                                                                              a friend recommended this toy and now i understand why babies love this toy she has been playing with it for months and the songs and lights still entertain her in fact i took it with us at her 6mth shots and it was the only thing that stopped her crying i like that the songs arent obnoxious there are two volume choices and you cant beat the price would recommend to anyone with a young baby   \n",
       "51476                                                                                                                                                                                                        after several friends recommended this little toy i ordered from amazon my son is 7 months old and has been enjoying this since he was born  it lights up and plays several tunes  he loves it so much  if he is fussy we give him this toy and he is immediately quiet  it is also very durable it has been dropped and thrown on the ground a lot and is still going  i recommend this toy to all of my friends i am considering buying a second one to keep in my diaper bag   \n",
       "...                                                                                                                                                                                                                                                                                                                                                                                                                                                                                                                                                                                                                                                                                      ...   \n",
       "51492                                                                                                                                                                                                                                                                                                                                                                                                                                                                                                               both my kids love this toy  they love anything that plays sound and this plays fun jingly classical tunes and they love to play with it and carry it around the housecar   \n",
       "51491                                                                                                                                                                                                                                                                                                                                                                                                                                                                   both my children have loved this toy it works for a long time and keeps their attention when i needed to distract them would be great and even more useful if the handle was small enough for younger babies to hold   \n",
       "51489  basically that is what this toy isa little jukebox made for babies it succeeds in this our daughter 6 months old presently adores this thing it has a nice clear sound the music doesnt sound electronic and is also surprisingly not annoying the buttons that trigger the songs are easy for her to press and the whole thing is light enough for her to hold onto or throw when she is ready to move on lol the lights that accompany the songs are great babys love lights and love music so the combo helps to hold my daughters attention anyway this is an inexpensive quality toy and well worth the investment your baby will thank you with hisher smiles and laughterenjoy   \n",
       "51488                                                                                                                                                                                                 based on previous reviews i bought two of these at the same time one for my grandson and one for his cousin they both absolutely love it they are 2 months apart and each one started noticing watching and hitting it at about 212 months old they love the lights sounds and look of this toy it continues to be a favorite toy for both of them at different ages in development the price is incredibly reasonable so if youre looking for a great toy for young babies this is it   \n",
       "51487                                                                                                                                                                                                                                                                                                                                                                                                                                                                                                                                         baby thinks its her ipod  i much prefer the music to some pop tunes  gives an infant an appreciation to excellent music and it takes a beating   \n",
       "\n",
       "       rating  sentiment  love_count  wow_count  predicted_sentiment  \\\n",
       "52018       5          1           1          0                    1   \n",
       "51473       5          1           0          0                    1   \n",
       "51474       2          0           0          0                    1   \n",
       "51475       5          1           1          0                    1   \n",
       "51476       5          1           1          0                    1   \n",
       "...       ...        ...         ...        ...                  ...   \n",
       "51492       5          1           3          0                    1   \n",
       "51491       5          1           1          0                    1   \n",
       "51489       5          1           2          0                    1   \n",
       "51488       5          1           2          0                    1   \n",
       "51487       5          1           0          0                    1   \n",
       "\n",
       "       predicted_probability  \n",
       "52018               0.928503  \n",
       "51473               0.790884  \n",
       "51474               0.790884  \n",
       "51475               0.928503  \n",
       "51476               0.928503  \n",
       "...                      ...  \n",
       "51492               0.993512  \n",
       "51491               0.928503  \n",
       "51489               0.978067  \n",
       "51488               0.978067  \n",
       "51487               0.790884  \n",
       "\n",
       "[526 rows x 8 columns]"
      ],
      "text/html": [
       "<div>\n",
       "<style scoped>\n",
       "    .dataframe tbody tr th:only-of-type {\n",
       "        vertical-align: middle;\n",
       "    }\n",
       "\n",
       "    .dataframe tbody tr th {\n",
       "        vertical-align: top;\n",
       "    }\n",
       "\n",
       "    .dataframe thead th {\n",
       "        text-align: right;\n",
       "    }\n",
       "</style>\n",
       "<table border=\"1\" class=\"dataframe\">\n",
       "  <thead>\n",
       "    <tr style=\"text-align: right;\">\n",
       "      <th></th>\n",
       "      <th>name</th>\n",
       "      <th>review</th>\n",
       "      <th>rating</th>\n",
       "      <th>sentiment</th>\n",
       "      <th>love_count</th>\n",
       "      <th>wow_count</th>\n",
       "      <th>predicted_sentiment</th>\n",
       "      <th>predicted_probability</th>\n",
       "    </tr>\n",
       "  </thead>\n",
       "  <tbody>\n",
       "    <tr>\n",
       "      <th>52018</th>\n",
       "      <td>Baby Einstein Take Along Tunes</td>\n",
       "      <td>love this thing it has great music and goes everywhere the lights really catch my 5 month olds attention if you like classical music you should buy it</td>\n",
       "      <td>5</td>\n",
       "      <td>1</td>\n",
       "      <td>1</td>\n",
       "      <td>0</td>\n",
       "      <td>1</td>\n",
       "      <td>0.928503</td>\n",
       "    </tr>\n",
       "    <tr>\n",
       "      <th>51473</th>\n",
       "      <td>Baby Einstein Take Along Tunes</td>\n",
       "      <td>5 month old likes it seems to keep her attention for a few minutes cute little radio for babies and toddlers</td>\n",
       "      <td>5</td>\n",
       "      <td>1</td>\n",
       "      <td>0</td>\n",
       "      <td>0</td>\n",
       "      <td>1</td>\n",
       "      <td>0.790884</td>\n",
       "    </tr>\n",
       "    <tr>\n",
       "      <th>51474</th>\n",
       "      <td>Baby Einstein Take Along Tunes</td>\n",
       "      <td>a copy of so many other things out there only one place to grab hold of and i would not buy again</td>\n",
       "      <td>2</td>\n",
       "      <td>0</td>\n",
       "      <td>0</td>\n",
       "      <td>0</td>\n",
       "      <td>1</td>\n",
       "      <td>0.790884</td>\n",
       "    </tr>\n",
       "    <tr>\n",
       "      <th>51475</th>\n",
       "      <td>Baby Einstein Take Along Tunes</td>\n",
       "      <td>a friend recommended this toy and now i understand why babies love this toy she has been playing with it for months and the songs and lights still entertain her in fact i took it with us at her 6mth shots and it was the only thing that stopped her crying i like that the songs arent obnoxious there are two volume choices and you cant beat the price would recommend to anyone with a young baby</td>\n",
       "      <td>5</td>\n",
       "      <td>1</td>\n",
       "      <td>1</td>\n",
       "      <td>0</td>\n",
       "      <td>1</td>\n",
       "      <td>0.928503</td>\n",
       "    </tr>\n",
       "    <tr>\n",
       "      <th>51476</th>\n",
       "      <td>Baby Einstein Take Along Tunes</td>\n",
       "      <td>after several friends recommended this little toy i ordered from amazon my son is 7 months old and has been enjoying this since he was born  it lights up and plays several tunes  he loves it so much  if he is fussy we give him this toy and he is immediately quiet  it is also very durable it has been dropped and thrown on the ground a lot and is still going  i recommend this toy to all of my friends i am considering buying a second one to keep in my diaper bag</td>\n",
       "      <td>5</td>\n",
       "      <td>1</td>\n",
       "      <td>1</td>\n",
       "      <td>0</td>\n",
       "      <td>1</td>\n",
       "      <td>0.928503</td>\n",
       "    </tr>\n",
       "    <tr>\n",
       "      <th>...</th>\n",
       "      <td>...</td>\n",
       "      <td>...</td>\n",
       "      <td>...</td>\n",
       "      <td>...</td>\n",
       "      <td>...</td>\n",
       "      <td>...</td>\n",
       "      <td>...</td>\n",
       "      <td>...</td>\n",
       "    </tr>\n",
       "    <tr>\n",
       "      <th>51492</th>\n",
       "      <td>Baby Einstein Take Along Tunes</td>\n",
       "      <td>both my kids love this toy  they love anything that plays sound and this plays fun jingly classical tunes and they love to play with it and carry it around the housecar</td>\n",
       "      <td>5</td>\n",
       "      <td>1</td>\n",
       "      <td>3</td>\n",
       "      <td>0</td>\n",
       "      <td>1</td>\n",
       "      <td>0.993512</td>\n",
       "    </tr>\n",
       "    <tr>\n",
       "      <th>51491</th>\n",
       "      <td>Baby Einstein Take Along Tunes</td>\n",
       "      <td>both my children have loved this toy it works for a long time and keeps their attention when i needed to distract them would be great and even more useful if the handle was small enough for younger babies to hold</td>\n",
       "      <td>5</td>\n",
       "      <td>1</td>\n",
       "      <td>1</td>\n",
       "      <td>0</td>\n",
       "      <td>1</td>\n",
       "      <td>0.928503</td>\n",
       "    </tr>\n",
       "    <tr>\n",
       "      <th>51489</th>\n",
       "      <td>Baby Einstein Take Along Tunes</td>\n",
       "      <td>basically that is what this toy isa little jukebox made for babies it succeeds in this our daughter 6 months old presently adores this thing it has a nice clear sound the music doesnt sound electronic and is also surprisingly not annoying the buttons that trigger the songs are easy for her to press and the whole thing is light enough for her to hold onto or throw when she is ready to move on lol the lights that accompany the songs are great babys love lights and love music so the combo helps to hold my daughters attention anyway this is an inexpensive quality toy and well worth the investment your baby will thank you with hisher smiles and laughterenjoy</td>\n",
       "      <td>5</td>\n",
       "      <td>1</td>\n",
       "      <td>2</td>\n",
       "      <td>0</td>\n",
       "      <td>1</td>\n",
       "      <td>0.978067</td>\n",
       "    </tr>\n",
       "    <tr>\n",
       "      <th>51488</th>\n",
       "      <td>Baby Einstein Take Along Tunes</td>\n",
       "      <td>based on previous reviews i bought two of these at the same time one for my grandson and one for his cousin they both absolutely love it they are 2 months apart and each one started noticing watching and hitting it at about 212 months old they love the lights sounds and look of this toy it continues to be a favorite toy for both of them at different ages in development the price is incredibly reasonable so if youre looking for a great toy for young babies this is it</td>\n",
       "      <td>5</td>\n",
       "      <td>1</td>\n",
       "      <td>2</td>\n",
       "      <td>0</td>\n",
       "      <td>1</td>\n",
       "      <td>0.978067</td>\n",
       "    </tr>\n",
       "    <tr>\n",
       "      <th>51487</th>\n",
       "      <td>Baby Einstein Take Along Tunes</td>\n",
       "      <td>baby thinks its her ipod  i much prefer the music to some pop tunes  gives an infant an appreciation to excellent music and it takes a beating</td>\n",
       "      <td>5</td>\n",
       "      <td>1</td>\n",
       "      <td>0</td>\n",
       "      <td>0</td>\n",
       "      <td>1</td>\n",
       "      <td>0.790884</td>\n",
       "    </tr>\n",
       "  </tbody>\n",
       "</table>\n",
       "<p>526 rows × 8 columns</p>\n",
       "</div>"
      ]
     },
     "execution_count": 263,
     "metadata": {},
     "output_type": "execute_result"
    }
   ],
   "execution_count": 263
  },
  {
   "metadata": {
    "ExecuteTime": {
     "end_time": "2025-06-19T02:02:09.181352Z",
     "start_time": "2025-06-19T02:02:09.168990Z"
    }
   },
   "cell_type": "code",
   "source": [
    "# Виводимо два найкращі відгуки\n",
    "print(f\"Найкращий відгук 1: {toy_reviews.review.iat[0]}\")\n",
    "print(f\"Найкращий відгук 2: {toy_reviews.review.iat[1]}\")\n",
    "\n",
    "# Виводимо два найгірші відгуки\n",
    "print(f\"Найгірший відгук 1: {toy_reviews.review.iat[-1]}\")\n",
    "print(f\"Найгірший відгук 2: {toy_reviews.review.iat[-2]}\")"
   ],
   "id": "98136e8125d8b727",
   "outputs": [
    {
     "name": "stdout",
     "output_type": "stream",
     "text": [
      "Найкращий відгук 1: love this thing it has great music and goes everywhere the lights really catch my 5 month olds attention if you like classical music you should buy it\n",
      "Найкращий відгук 2: 5 month old likes it seems to keep her attention for a few minutes cute little radio for babies and toddlers\n",
      "Найгірший відгук 1: baby thinks its her ipod  i much prefer the music to some pop tunes  gives an infant an appreciation to excellent music and it takes a beating\n",
      "Найгірший відгук 2: based on previous reviews i bought two of these at the same time one for my grandson and one for his cousin they both absolutely love it they are 2 months apart and each one started noticing watching and hitting it at about 212 months old they love the lights sounds and look of this toy it continues to be a favorite toy for both of them at different ages in development the price is incredibly reasonable so if youre looking for a great toy for young babies this is it\n"
     ]
    }
   ],
   "execution_count": 264
  }
 ],
 "metadata": {
  "kernelspec": {
   "display_name": "Python 3",
   "language": "python",
   "name": "python3"
  },
  "language_info": {
   "codemirror_mode": {
    "name": "ipython",
    "version": 2
   },
   "file_extension": ".py",
   "mimetype": "text/x-python",
   "name": "python",
   "nbconvert_exporter": "python",
   "pygments_lexer": "ipython2",
   "version": "2.7.6"
  }
 },
 "nbformat": 4,
 "nbformat_minor": 5
}
